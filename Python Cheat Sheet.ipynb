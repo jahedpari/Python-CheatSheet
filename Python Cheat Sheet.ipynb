{
 "cells": [
  {
   "cell_type": "markdown",
   "metadata": {},
   "source": [
    "# String"
   ]
  },
  {
   "cell_type": "code",
   "execution_count": 2,
   "metadata": {},
   "outputs": [
    {
     "name": "stdout",
     "output_type": "stream",
     "text": [
      "Python is my favorite!\n",
      "Python will be my favorite!\n"
     ]
    }
   ],
   "source": [
    "my_string = 'Python is cool!'\n",
    "\n",
    "my_string.replace('a', '????')\n",
    "print(my_string)\n",
    "\n",
    "my_modified_string = my_string.replace('is', 'will be')\n",
    "print(my_modified_string)"
   ]
  },
  {
   "cell_type": "code",
   "execution_count": 5,
   "metadata": {},
   "outputs": [
    {
     "name": "stdout",
     "output_type": "stream",
     "text": [
      "My name is John Doe, you can call me John.\n",
      "My name is Sara Nada, you can call me Sara.\n"
     ]
    }
   ],
   "source": [
    "print('My name is {} {}, you can call me {}.'.format('John', 'Doe', 'John'))\n",
    "\n",
    "print('My name is {first} {family}, you can call me {first}.'.format(first='Sara', family='Nada'))"
   ]
  },
  {
   "cell_type": "code",
   "execution_count": 9,
   "metadata": {},
   "outputs": [
    {
     "name": "stdout",
     "output_type": "stream",
     "text": [
      "pandas, numpy, requests\n"
     ]
    }
   ],
   "source": [
    "cool_python_libs = ', '.join(['pandas', 'numpy', 'requests'])\n",
    "print(cool_python_libs)"
   ]
  },
  {
   "cell_type": "code",
   "execution_count": 10,
   "metadata": {},
   "outputs": [
    {
     "name": "stdout",
     "output_type": "stream",
     "text": [
      "pandas, numpy, requests\n"
     ]
    }
   ],
   "source": [
    "print('pandas' + ', ' + 'numpy' + ', ' + 'requests')"
   ]
  },
  {
   "cell_type": "code",
   "execution_count": 12,
   "metadata": {},
   "outputs": [
    {
     "name": "stdout",
     "output_type": "stream",
     "text": [
      "PYTHON HACKER\n",
      "python hacker\n",
      "Python Hacker\n"
     ]
    }
   ],
   "source": [
    "mixed_case = 'PyTHoN hackER'\n",
    "print (mixed_case.upper())\n",
    "print (mixed_case.lower())\n",
    "print (mixed_case.title())"
   ]
  },
  {
   "cell_type": "code",
   "execution_count": 13,
   "metadata": {},
   "outputs": [
    {
     "name": "stdout",
     "output_type": "stream",
     "text": [
      "ugly:  \n",
      " \t Some story to tell \n",
      "stripped: Some story to tell\n"
     ]
    }
   ],
   "source": [
    "ugly_formatted = ' \\n \\t Some story to tell '\n",
    "stripped = ugly_formatted.strip()\n",
    "\n",
    "print('ugly: {}'.format(ugly_formatted))\n",
    "print('stripped: {}'.format(ugly_formatted.strip()))"
   ]
  },
  {
   "cell_type": "code",
   "execution_count": 15,
   "metadata": {},
   "outputs": [
    {
     "name": "stdout",
     "output_type": "stream",
     "text": [
      "['three', 'different', 'words?,', 'yes']\n"
     ]
    },
    {
     "data": {
      "text/plain": [
       "list"
      ]
     },
     "execution_count": 15,
     "metadata": {},
     "output_type": "execute_result"
    }
   ],
   "source": [
    "sentence = 'three different words?, yes'\n",
    "words = sentence.split()\n",
    "print(words)\n",
    "type(words)"
   ]
  },
  {
   "cell_type": "code",
   "execution_count": 16,
   "metadata": {},
   "outputs": [
    {
     "name": "stdout",
     "output_type": "stream",
     "text": [
      "['three different words?', ' yes']\n"
     ]
    }
   ],
   "source": [
    "words = sentence.split(',')\n",
    "print(words)"
   ]
  },
  {
   "cell_type": "markdown",
   "metadata": {},
   "source": [
    "# Numbers"
   ]
  },
  {
   "cell_type": "code",
   "execution_count": 21,
   "metadata": {},
   "outputs": [
    {
     "name": "stdout",
     "output_type": "stream",
     "text": [
      "value: 6.0, type: <class 'float'>\n"
     ]
    }
   ],
   "source": [
    "my_int = 6\n",
    "my_float = float(my_int)\n",
    "print('value: {}, type: {}'.format(my_float, type(my_float)))"
   ]
  },
  {
   "cell_type": "code",
   "execution_count": 22,
   "metadata": {},
   "outputs": [
    {
     "name": "stdout",
     "output_type": "stream",
     "text": [
      "1.0\n",
      "1.2\n"
     ]
    }
   ],
   "source": [
    "print(1 / 1)\n",
    "print(6 / 5)"
   ]
  },
  {
   "cell_type": "code",
   "execution_count": 23,
   "metadata": {},
   "outputs": [
    {
     "name": "stdout",
     "output_type": "stream",
     "text": [
      "False\n",
      "0.30000000000000004\n"
     ]
    }
   ],
   "source": [
    "val = 0.1 + 0.1 + 0.1\n",
    "print(val == 0.3)\n",
    "print(val)"
   ]
  },
  {
   "cell_type": "code",
   "execution_count": 24,
   "metadata": {},
   "outputs": [
    {
     "data": {
      "text/plain": [
       "1"
      ]
     },
     "execution_count": 24,
     "metadata": {},
     "output_type": "execute_result"
    }
   ],
   "source": [
    "2 ** 3\n"
   ]
  },
  {
   "cell_type": "code",
   "execution_count": 28,
   "metadata": {},
   "outputs": [
    {
     "name": "stdout",
     "output_type": "stream",
     "text": [
      "from Decimal: 0.1000000000000000055511151231257827021181583404541015625\n",
      "from float: 0.1\n",
      "from string: 0.1\n"
     ]
    }
   ],
   "source": [
    "from decimal import Decimal\n",
    "from_dec = Decimal(0.1)\n",
    "from_float = float(0.1)\n",
    "from_str = Decimal('0.1')\n",
    "print('from Decimal: {}\\nfrom float: {}\\nfrom string: {}'.format(from_dec,from_float, from_str))\n"
   ]
  },
  {
   "cell_type": "code",
   "execution_count": 29,
   "metadata": {},
   "outputs": [
    {
     "name": "stdout",
     "output_type": "stream",
     "text": [
      "True\n"
     ]
    }
   ],
   "source": [
    "my_decimal = Decimal('0.1')\n",
    "sum_of_decimals = my_decimal + my_decimal + my_decimal\n",
    "print(sum_of_decimals == Decimal('0.3'))"
   ]
  },
  {
   "cell_type": "code",
   "execution_count": 30,
   "metadata": {},
   "outputs": [
    {
     "name": "stdout",
     "output_type": "stream",
     "text": [
      "3.0\n",
      "2.5\n"
     ]
    }
   ],
   "source": [
    "print(1 + 2**2 * 3 / 6) # 1 + 4 * 3 / 6 == 1 + 12 / 6 == 1 + 2\n",
    "print((1 + 2**2) * 3 / 6) # (1+4)*3/6= 5*3/6 =15/6"
   ]
  },
  {
   "cell_type": "markdown",
   "metadata": {},
   "source": []
  },
  {
   "cell_type": "code",
   "execution_count": 32,
   "metadata": {},
   "outputs": [
    {
     "name": "stdout",
     "output_type": "stream",
     "text": [
      "False\n",
      "0.30000000000000004\n"
     ]
    }
   ],
   "source": [
    "print(0.1 + 0.2 == 0.3)\n",
    "print (0.1 + 0.2)"
   ]
  },
  {
   "cell_type": "code",
   "execution_count": 33,
   "metadata": {},
   "outputs": [
    {
     "name": "stdout",
     "output_type": "stream",
     "text": [
      "0.3\n",
      "0.30000000000000004\n"
     ]
    }
   ],
   "source": [
    "print(Decimal('0.1')+Decimal('0.2'))\n",
    "print(float('0.1')+float('0.2'))"
   ]
  },
  {
   "cell_type": "markdown",
   "metadata": {},
   "source": [
    "#  Conditionals"
   ]
  },
  {
   "cell_type": "code",
   "execution_count": 34,
   "metadata": {},
   "outputs": [
    {
     "name": "stdout",
     "output_type": "stream",
     "text": [
      "1 <= 2 <= 3: True\n"
     ]
    }
   ],
   "source": [
    "print('1 <= 2 <= 3: {}'.format(1 <= 2 <= 3))"
   ]
  },
  {
   "cell_type": "code",
   "execution_count": 35,
   "metadata": {},
   "outputs": [
    {
     "name": "stdout",
     "output_type": "stream",
     "text": [
      "value is greater than 10 but less than 100\n"
     ]
    }
   ],
   "source": [
    "val = 88\n",
    "if val >= 100:\n",
    "    print('value is equal or greater than 100')\n",
    "elif val > 10:\n",
    "    print('value is greater than 10 but less than 100')\n",
    "else:\n",
    "    print('value is equal or less than 10')"
   ]
  },
  {
   "cell_type": "markdown",
   "metadata": {},
   "source": [
    "# List "
   ]
  },
  {
   "cell_type": "code",
   "execution_count": 37,
   "metadata": {},
   "outputs": [
    {
     "name": "stdout",
     "output_type": "stream",
     "text": [
      "lengths:6\n"
     ]
    }
   ],
   "source": [
    "list_of_misc = [0.2, 5, 'Python', 'is', 'still fun', '!']\n",
    "print('lengths:{}'.format( len(list_of_misc)))"
   ]
  },
  {
   "cell_type": "code",
   "execution_count": 38,
   "metadata": {},
   "outputs": [
    {
     "name": "stdout",
     "output_type": "stream",
     "text": [
      "is\n"
     ]
    }
   ],
   "source": [
    "my_list = ['Python', 'is', 'still', 'cool']\n",
    "print(my_list[1])"
   ]
  },
  {
   "cell_type": "code",
   "execution_count": 41,
   "metadata": {},
   "outputs": [
    {
     "name": "stdout",
     "output_type": "stream",
     "text": [
      "first coordinate: [12.0, 13.3]\n",
      "second element of first coordinate: 13.3\n"
     ]
    }
   ],
   "source": [
    "#Accessing values\n",
    "\n",
    "coordinates = [[12.0, 13.3], [0.6, 18.0], [88.0, 1.1]]  # two dimensional\n",
    "print('first coordinate: {}'.format(coordinates[0]))\n",
    "print('second element of first coordinate: {}'.format(coordinates[0][1]))"
   ]
  },
  {
   "cell_type": "code",
   "execution_count": 42,
   "metadata": {},
   "outputs": [
    {
     "name": "stdout",
     "output_type": "stream",
     "text": [
      "[99, 1, 2, 3, 4, 5]\n",
      "[1, 2, 3, 4, 5]\n"
     ]
    }
   ],
   "source": [
    "#Updating values\n",
    "\n",
    "my_list = [0, 1, 2, 3, 4, 5]\n",
    "my_list[0] = 99\n",
    "print(my_list)\n",
    "\n",
    "# remove first value\n",
    "del my_list[0]\n",
    "print(my_list)"
   ]
  },
  {
   "cell_type": "code",
   "execution_count": 43,
   "metadata": {},
   "outputs": [
    {
     "name": "stdout",
     "output_type": "stream",
     "text": [
      "number 6 is not present\n"
     ]
    }
   ],
   "source": [
    "if 6 not in [1, 2, 3, 7]:\n",
    "    print('number 6 is not present')"
   ]
  },
  {
   "cell_type": "code",
   "execution_count": 44,
   "metadata": {},
   "outputs": [
    {
     "name": "stdout",
     "output_type": "stream",
     "text": [
      "original: [99, 2, 3], modified: [99, 2, 3]\n"
     ]
    }
   ],
   "source": [
    "# Caution!\n",
    "\n",
    "original = [1, 2, 3]\n",
    "modified = original\n",
    "modified[0] = 99\n",
    "print('original: {}, modified: {}'.format(original, modified))"
   ]
  },
  {
   "cell_type": "markdown",
   "metadata": {},
   "source": [
    "You can get around this by creating new list:"
   ]
  },
  {
   "cell_type": "code",
   "execution_count": 46,
   "metadata": {},
   "outputs": [
    {
     "name": "stdout",
     "output_type": "stream",
     "text": [
      "original: [1, 2, 3], modified: [99, 2, 3]\n"
     ]
    }
   ],
   "source": [
    "original = [1, 2, 3]\n",
    "\n",
    "modified = list(original)  #  Option 1: Note list() \n",
    "\n",
    "modified = original.copy() # Option 2: use copy method\n",
    "\n",
    "modified[0] = 99\n",
    "print('original: {}, modified: {}'.format(original, modified))"
   ]
  },
  {
   "cell_type": "code",
   "execution_count": 51,
   "metadata": {},
   "outputs": [
    {
     "name": "stdout",
     "output_type": "stream",
     "text": [
      "[1, 'Java']\n",
      "[1, 'Java', 'ham']\n",
      "[1, 'ham']\n"
     ]
    }
   ],
   "source": [
    "# Append, Remove\n",
    "\n",
    "my_list = [1, 'Java']\n",
    "print(my_list)\n",
    "\n",
    "my_list.append('ham')\n",
    "print(my_list)\n",
    "\n",
    "my_list.remove('Java')\n",
    "print(my_list)\n"
   ]
  },
  {
   "cell_type": "code",
   "execution_count": 55,
   "metadata": {},
   "outputs": [
    {
     "name": "stdout",
     "output_type": "stream",
     "text": [
      "Reverse:   ['ham', 'b', 'a']\n",
      "Sort Asc:   ['a', 'b', 'ham']\n",
      "Sort Desc:   ['ham', 'b', 'a']\n"
     ]
    }
   ],
   "source": [
    "# sort\n",
    "\n",
    "my_list = ['a', 'b', 'ham']\n",
    "\n",
    "my_list.reverse()\n",
    "print('Reverse:   {}'.format(my_list))\n",
    "\n",
    "my_list.sort()\n",
    "print('Sort Asc:   {}'.format(my_list))\n",
    "\n",
    "\n",
    "my_list.sort(reverse=True)\n",
    "print('Sort Desc:   {}'.format(my_list))\n",
    "\n",
    "\n",
    "\n",
    "    "
   ]
  },
  {
   "cell_type": "markdown",
   "metadata": {},
   "source": [
    "While list.sort() sorts the list in-place, sorted(list) returns a new list and leaves the original untouched:"
   ]
  },
  {
   "cell_type": "markdown",
   "metadata": {},
   "source": [
    "original = [8, 1, 6, 5, 10]\n",
    "sorted_numbers = sorted(numbers)\n",
    "print('Original: {}, sorted: {}'.format(numbers, sorted_numbers))"
   ]
  },
  {
   "cell_type": "code",
   "execution_count": 58,
   "metadata": {},
   "outputs": [
    {
     "name": "stdout",
     "output_type": "stream",
     "text": [
      "['beef', 'ham', 'potatoes', 1, 3]\n"
     ]
    }
   ],
   "source": [
    "# Extend\n",
    "\n",
    "first_list = ['beef', 'ham']\n",
    "second_list = ['potatoes',1 ,3]\n",
    "first_list.extend(second_list)\n",
    "print( first_list)\n",
    "\n"
   ]
  },
  {
   "cell_type": "code",
   "execution_count": 59,
   "metadata": {},
   "outputs": [
    {
     "name": "stdout",
     "output_type": "stream",
     "text": [
      "first: [1, 2, 3, 4, 5]\n"
     ]
    }
   ],
   "source": [
    "first = [1, 2, 3]\n",
    "second = [4, 5]\n",
    "first += second  # same as: first = first + second\n",
    "print('first: {}'.format(first))"
   ]
  },
  {
   "cell_type": "markdown",
   "metadata": {},
   "source": [
    "# [Dictionaries](https://docs.python.org/3/library/stdtypes.html#dict) "
   ]
  },
  {
   "cell_type": "code",
   "execution_count": 1,
   "metadata": {},
   "outputs": [
    {
     "name": "stdout",
     "output_type": "stream",
     "text": [
      "{'value1': 1.6, 'value2': 10, 'name': 'John Doe'}\n",
      "{'value1': 1.6, 'value2': 10, 'name': 'John Doe'}\n",
      "equal: True\n",
      "length: 3\n"
     ]
    }
   ],
   "source": [
    "dict1 = {'value1': 1.6, 'value2': 10, 'name': 'John Doe'}\n",
    "\n",
    "dict2 = dict(value1=1.6, value2=10, name='John Doe')\n",
    "\n",
    "# This is also a away to initialize a dict (list of tuples) \n",
    "dict3 = dict([('value1': 1.6), ('value2': 10)])\n",
    "\n",
    "\n",
    "print(dict1)\n",
    "print(dict2)\n",
    "\n",
    "print('equal: {}'.format(dict1 == dict2))\n",
    "print('length: {}'.format(len(dict1)))"
   ]
  },
  {
   "cell_type": "code",
   "execution_count": 2,
   "metadata": {},
   "outputs": [
    {
     "name": "stdout",
     "output_type": "stream",
     "text": [
      "keys: dict_keys(['value1', 'value2', 'name'])\n",
      "values: dict_values([1.6, 10, 'John Doe'])\n",
      "items: dict_items([('value1', 1.6), ('value2', 10), ('name', 'John Doe')])\n"
     ]
    }
   ],
   "source": [
    "print('keys: {}'.format(dict1.keys()))\n",
    "print('values: {}'.format(dict1.values()))\n",
    "print('items: {}'.format(dict1.items()))"
   ]
  },
  {
   "cell_type": "code",
   "execution_count": 12,
   "metadata": {},
   "outputs": [
    {
     "name": "stdout",
     "output_type": "stream",
     "text": [
      "{'key1': 'new value', 'key2': 99}\n",
      "99\n",
      "{'key2': 99}\n"
     ]
    }
   ],
   "source": [
    "#Setting and deleting\n",
    "my_dict = {}\n",
    "my_dict['key1'] = 'value1'\n",
    "my_dict['key2'] = 99\n",
    "my_dict['key1'] = 'new value'  # overriding existing value\n",
    "print(my_dict)\n",
    "\n",
    "\n",
    "\n",
    "\n",
    "del my_dict['key1']\n",
    "print(my_dict)\n",
    "\n",
    "if 'key1' in my_dict:\n",
    "    del my_dict['key1']\n",
    "    \n",
    "    \n"
   ]
  },
  {
   "cell_type": "code",
   "execution_count": 16,
   "metadata": {},
   "outputs": [
    {
     "name": "stdout",
     "output_type": "stream",
     "text": [
      "None\n",
      "d: my default value\n"
     ]
    }
   ],
   "source": [
    "# Getting\n",
    "d = my_dict.get('key5')\n",
    "print (d)\n",
    "\n",
    "#Returns `None` if `key` is not in `dict`.\n",
    "#However, you can also specify `default` return value which will be returned if `key` is not present in the `dict`.\n",
    "d = my_dict.get('key5', 'my default value')\n",
    "print('d: {}'.format(d))\n"
   ]
  },
  {
   "cell_type": "code",
   "execution_count": 17,
   "metadata": {},
   "outputs": [
    {
     "name": "stdout",
     "output_type": "stream",
     "text": [
      "dict after popping: {'drink': 'beer', 'sport': 'football'}\n",
      "food again: default value\n"
     ]
    }
   ],
   "source": [
    "#Pop\n",
    "\n",
    "my_dict = dict(food='ham', drink='beer', sport='football')\n",
    "\n",
    "food = my_dict.pop('food')\n",
    "print('dict after popping: {}'.format(my_dict))\n",
    "\n",
    "food_again = my_dict.pop('food', 'default value')\n",
    "print('food again: {}'.format(food_again))"
   ]
  },
  {
   "cell_type": "code",
   "execution_count": 18,
   "metadata": {},
   "outputs": [
    {
     "name": "stdout",
     "output_type": "stream",
     "text": [
      "a: 1\n",
      "d: default\n",
      "my_dict: {'a': 1, 'b': 2, 'c': 3, 'd': 'default'}\n"
     ]
    }
   ],
   "source": [
    "#   dict.setdefault() \n",
    "#Returns the value of key defined as first parameter.\n",
    "#If the key is not present in the dict,\n",
    "#adds key with default value (second parameter).\n",
    "\n",
    "my_dict = {'a': 1, 'b': 2, 'c': 3}\n",
    "a = my_dict.setdefault('a', 'default')\n",
    "d = my_dict.setdefault('d', 'default')\n",
    "\n",
    "print('a: {}\\nd: {}\\nmy_dict: {}'.format(a, d, my_dict))"
   ]
  },
  {
   "cell_type": "code",
   "execution_count": 7,
   "metadata": {},
   "outputs": [
    {
     "name": "stdout",
     "output_type": "stream",
     "text": [
      "equal: True\n",
      "equal: False\n"
     ]
    }
   ],
   "source": [
    "#Copying\n",
    "\n",
    "dict1 = my_dict   # Caution\n",
    "dict1['test1'] = 'YES'\n",
    "print('equal: {}'.format(my_dict == dict1))\n",
    "\n",
    "dict2 = dict(my_dict)  #Create a new dict if you want to have a copy:\n",
    "dict2['Test2'] = 'NO'\n",
    "print('equal: {}'.format(my_dict == dict2))"
   ]
  },
  {
   "cell_type": "code",
   "execution_count": 21,
   "metadata": {},
   "outputs": [
    {
     "name": "stdout",
     "output_type": "stream",
     "text": [
      "{'a': 1, 'b': 2, 'c': 3}\n",
      "{'a': 1, 'b': 2, 'c': 4}\n"
     ]
    }
   ],
   "source": [
    "#dict.update()\n",
    "#Merge two dicts\n",
    "\n",
    "dict1 = {'a': 1, 'b': 2}\n",
    "dict2 = {'c': 3}\n",
    "dict1.update(dict2)\n",
    "print(dict1)\n",
    "\n",
    "# If they have same keys:\n",
    "dict1.update({'c': 4})\n",
    "print(dict1)"
   ]
  },
  {
   "cell_type": "code",
   "execution_count": 32,
   "metadata": {},
   "outputs": [
    {
     "name": "stdout",
     "output_type": "stream",
     "text": [
      "{'Ritika': 5, 'Sam': 20, 'John': 10, 'Aadi': 8, 'Mark': 11}\n",
      "{'Ritika': 5, 'Sam': [20, 7], 'John': 10, 'Aadi': 8, 'Mark': 11}\n"
     ]
    }
   ],
   "source": [
    "#Merge using **kwargs\n",
    "dict1 = {  'Ritika': 5, 'Sam': 7, 'John' : 10 }\n",
    "dict2 = {'Aadi': 8,'Sam': 20,'Mark' : 11 }\n",
    "\n",
    "#When we apply ** to this dictionary, it de-serializes the contents of dictionary\n",
    "#to a collection of key/value pairs \n",
    "# i.e. **dict1 => 'Ritika': 5, 'Sam': 7, 'John' : 10\n",
    "\n",
    "dict3 = {**dict1 , **dict2}\n",
    "print(dict3)\n",
    "\n",
    "# to include all values for common keys\n",
    "for key, value in dict3.items():\n",
    "       if key in dict1 and key in dict2:\n",
    "               dict3[key] = [value , dict1[key]]\n",
    "                \n",
    "print(dict3)\n",
    "\n"
   ]
  },
  {
   "cell_type": "code",
   "execution_count": 26,
   "metadata": {},
   "outputs": [
    {
     "name": "stdout",
     "output_type": "stream",
     "text": [
      "['Python', 'is', 'still', 'cool']\n",
      "Python\n"
     ]
    }
   ],
   "source": [
    "#The keys of a dict have to be immutable\n",
    "#Thus you can not use \n",
    "#e.g. a list or a dict as key because they are mutable types \n",
    "\n",
    "# bad_dict = {['my_list'], 'value'}  # Raises TypeError\n",
    "\n",
    "#Values can be mutable\n",
    "good_dict = {'key': ['Python', 'is', 'still', 'cool']}\n",
    "print(good_dict['key'])\n",
    "print(good_dict['key'][0])"
   ]
  },
  {
   "cell_type": "markdown",
   "metadata": {},
   "source": [
    "# [`for` loops](https://docs.python.org/3/tutorial/controlflow.html#for-statements)"
   ]
  },
  {
   "cell_type": "code",
   "execution_count": 4,
   "metadata": {},
   "outputs": [
    {
     "name": "stdout",
     "output_type": "stream",
     "text": [
      "2\n",
      "3\n",
      "4\n",
      "Python\n"
     ]
    }
   ],
   "source": [
    "my_list = [1, 2, 3, 4, 'Python', 'is', 'neat']\n",
    "for item in my_list:\n",
    "    if item == 'is':\n",
    "        break\n",
    "    if item == 1:\n",
    "        continue\n",
    "    print(item)\n",
    "        \n"
   ]
  },
  {
   "cell_type": "code",
   "execution_count": 6,
   "metadata": {},
   "outputs": [
    {
     "name": "stdout",
     "output_type": "stream",
     "text": [
      "idx: 0, value: 1\n",
      "idx: 1, value: 2\n",
      "idx: 2, value: 3\n",
      "idx: 3, value: 4\n",
      "idx: 4, value: Python\n",
      "idx: 5, value: is\n",
      "idx: 6, value: neat\n"
     ]
    }
   ],
   "source": [
    "#enumerate()\n",
    "\n",
    "for idx, val in enumerate(my_list):\n",
    "    print('idx: {}, value: {}'.format(idx, val))"
   ]
  },
  {
   "cell_type": "code",
   "execution_count": 34,
   "metadata": {},
   "outputs": [
    {
     "name": "stdout",
     "output_type": "stream",
     "text": [
      "hacker: True\n",
      "age: True\n",
      "name: True\n"
     ]
    }
   ],
   "source": [
    "#Looping dictionaries\n",
    "\n",
    "dict1 = {'hacker': True, 'age': 72, 'name': 'John Doe'}\n",
    "for val in dict1:\n",
    "    print(val, end=': ')\n",
    "    print (dict1.get('hacker'))\n",
    " "
   ]
  },
  {
   "cell_type": "code",
   "execution_count": 35,
   "metadata": {},
   "outputs": [
    {
     "name": "stdout",
     "output_type": "stream",
     "text": [
      "hacker:True\n",
      "age:72\n",
      "name:John Doe\n"
     ]
    }
   ],
   "source": [
    "dict1 = {'hacker': True, 'age': 72, 'name': 'John Doe'}\n",
    "for key, val in dict1.items():\n",
    "    print('{}:{}'.format(key, val))"
   ]
  },
  {
   "cell_type": "code",
   "execution_count": 32,
   "metadata": {},
   "outputs": [
    {
     "name": "stdout",
     "output_type": "stream",
     "text": [
      "0 1 2 3 4 \n",
      "2 3 4 \n",
      "0 2 4 6 8 "
     ]
    }
   ],
   "source": [
    "# range()\n",
    "\n",
    "for number in range(5): #0 to 5\n",
    "    print(number, end=\" \")\n",
    "\n",
    "print()\n",
    "for number in range(2, 5):  #2 to 5\n",
    "    print(number, end=\" \")\n",
    "    \n",
    "print()\n",
    "for number in range(0, 10, 2): # last one is step\n",
    "    print(number, end=\" \")"
   ]
  },
  {
   "cell_type": "markdown",
   "metadata": {},
   "source": [
    "Question: Calculate the sum of the values in magic_dict by taking only into account numeric values (hint: see isinstance)."
   ]
  },
  {
   "cell_type": "code",
   "execution_count": 36,
   "metadata": {},
   "outputs": [],
   "source": [
    "#Calculate the sum of the values in magic_dict by taking only into account numeric values (hint: see isinstance).\n",
    "\n",
    "magic_dict = dict(val1=44, val2='secret value', val3=55.0, val4=1)\n",
    "\n",
    "sum_of_values = 0  \n",
    "for key, value in magic_dict.items():  \n",
    "    if  isinstance(value,(int, float, complex)):\n",
    "        sum_of_values += value  "
   ]
  },
  {
   "cell_type": "markdown",
   "metadata": {},
   "source": [
    "# Functions"
   ]
  },
  {
   "cell_type": "code",
   "execution_count": 37,
   "metadata": {},
   "outputs": [
    {
     "name": "stdout",
     "output_type": "stream",
     "text": [
      "{'name': 'John Doe', 'age': 82, 'salary': 300}\n",
      "{'name': 'Lisa Doe', 'age': 22, 'salary': 10000, 'job': 'hacker'}\n"
     ]
    }
   ],
   "source": [
    "def create_person_info(name, age, job=None, salary=300):\n",
    "    info = {'name': name, 'age': age, 'salary': salary}\n",
    "    \n",
    "    # Add 'job' key only if it's provided as parameter\n",
    "    if job:  \n",
    "        info.update(dict(job=job))\n",
    "        \n",
    "    return info\n",
    "\n",
    "person1 = create_person_info('John Doe', 82)  # use default values for job and salary\n",
    "person2 = create_person_info('Lisa Doe', 22, 'hacker', 10000)\n",
    "print(person1)\n",
    "print(person2)"
   ]
  },
  {
   "cell_type": "code",
   "execution_count": 41,
   "metadata": {},
   "outputs": [],
   "source": [
    "#  pass statement\n",
    "#pass is a statement which does nothing when it's executed. \n",
    "\n",
    "def my_function(some_argument):\n",
    "    pass"
   ]
  },
  {
   "cell_type": "markdown",
   "metadata": {},
   "source": [
    "### Docstrings\n",
    "Strings for documenting your functions, methods, modules and variables."
   ]
  },
  {
   "cell_type": "code",
   "execution_count": 40,
   "metadata": {},
   "outputs": [
    {
     "name": "stdout",
     "output_type": "stream",
     "text": [
      "Help on function print_sum in module __main__:\n",
      "\n",
      "print_sum(val1, val2)\n",
      "    Function which prints the sum of given arguments.\n",
      "\n",
      "None\n"
     ]
    }
   ],
   "source": [
    "def print_sum(val1, val2):\n",
    "    \"\"\"Function which prints the sum of given arguments.\"\"\"\n",
    "    print('sum: {}'.format(val1 + val2))\n",
    "\n",
    "print(help(print_sum))\n",
    "\n"
   ]
  },
  {
   "cell_type": "code",
   "execution_count": 39,
   "metadata": {},
   "outputs": [
    {
     "name": "stdout",
     "output_type": "stream",
     "text": [
      "Help on function calculate_sum in module __main__:\n",
      "\n",
      "calculate_sum(val1, val2)\n",
      "    This is a longer docstring defining also the args and the return value. \n",
      "    \n",
      "    Args:\n",
      "        val1: The first parameter.\n",
      "        val2: The second parameter.\n",
      "    \n",
      "    Returns:\n",
      "        The sum of val1 and val2.\n",
      "\n",
      "None\n"
     ]
    }
   ],
   "source": [
    "def calculate_sum(val1, val2):\n",
    "    \"\"\"This is a longer docstring defining also the args and the return value. \n",
    "\n",
    "    Args:\n",
    "        val1: The first parameter.\n",
    "        val2: The second parameter.\n",
    "\n",
    "    Returns:\n",
    "        The sum of val1 and val2.\n",
    "        \n",
    "    \"\"\"\n",
    "    return val1 + val2\n",
    "\n",
    "print(help(calculate_sum))"
   ]
  },
  {
   "cell_type": "markdown",
   "metadata": {},
   "source": [
    "# [File I/O](https://docs.python.org/3/tutorial/inputoutput.html#reading-and-writing-files)\n",
    "Reading and writing files."
   ]
  },
  {
   "cell_type": "code",
   "execution_count": 47,
   "metadata": {},
   "outputs": [
    {
     "name": "stdout",
     "output_type": "stream",
     "text": [
      "current file: /Users/fatemehjahedpari/Documents/Data Challenges/Python-CheatSheet/Python Cheat Sheet.ipynb\n",
      "current directory: /Users/fatemehjahedpari/Documents/Data Challenges/Python-CheatSheet\n",
      "data directory: /Users/fatemehjahedpari/Documents/Data Challenges/Python-CheatSheet/data\n",
      "exists: True\n",
      "is file: False\n",
      "is directory: True\n",
      "First line\n",
      "Second line\n",
      "Third\n",
      "And so the story goes!\n"
     ]
    }
   ],
   "source": [
    "import os\n",
    "\n",
    "current_file = os.path.realpath('Python Cheat Sheet.ipynb')  \n",
    "print('current file: {}'.format(current_file))\n",
    "# Note: in .py files you can get the path of current file by __file__\n",
    "\n",
    "current_dir = os.path.dirname(current_file)  \n",
    "print('current directory: {}'.format(current_dir))\n",
    "# Note: in .py files you can get the dir of current file by os.path.dirname(__file__)\n",
    "\n",
    "data_dir = os.path.join(current_dir, 'data')\n",
    "print('data directory: {}'.format(data_dir))\n",
    "\n",
    " \n",
    "# Checking if path exists\n",
    "\n",
    "print('exists: {}'.format(os.path.exists(data_dir)))\n",
    "print('is file: {}'.format(os.path.isfile(data_dir)))\n",
    "print('is directory: {}'.format(os.path.isdir(data_dir)))\n",
    "\n",
    "\n",
    "#Reading Files \n",
    "file_path = os.path.join(data_dir, 'simple_file.txt')\n",
    "\n",
    "with open(file_path, 'r') as simple_file:\n",
    "    for line in simple_file:\n",
    "        print(line.strip())\n",
    "        \n",
    "# Writing Files\n",
    "new_file_path = os.path.join(data_dir, 'new_file.txt')\n",
    "\n",
    "with open(new_file_path, 'w') as my_file:\n",
    "    my_file.write('This is my first file that I wrote with Python.')\n",
    "\n",
    "# Deleting Files\n",
    "if os.path.exists(new_file_path):  # make sure it's there\n",
    "    os.remove(new_file_path)"
   ]
  },
  {
   "cell_type": "code",
   "execution_count": 48,
   "metadata": {},
   "outputs": [
    {
     "name": "stdout",
     "output_type": "stream",
     "text": [
      "/Users/fatemehjahedpari/Documents/Data Challenges/Python-CheatSheet\n",
      "/Users/fatemehjahedpari/Documents/Data Challenges\n"
     ]
    }
   ],
   "source": [
    "print(current_dir)\n",
    "print(os.path.dirname(current_dir))\n"
   ]
  },
  {
   "cell_type": "markdown",
   "metadata": {},
   "source": [
    "# [Classes](https://docs.python.org/3/tutorial/classes.html#a-first-look-at-classes)"
   ]
  },
  {
   "cell_type": "code",
   "execution_count": null,
   "metadata": {},
   "outputs": [],
   "source": []
  },
  {
   "cell_type": "markdown",
   "metadata": {},
   "source": [
    "# Acknowledgement\n",
    "\n",
    " Here is the summary of python codes I found in https://github.com/jerry-git/learn-python3\n",
    " \n",
    " For more examples and related exercises refer to the above mentioned link"
   ]
  },
  {
   "cell_type": "code",
   "execution_count": 23,
   "metadata": {},
   "outputs": [
    {
     "name": "stdout",
     "output_type": "stream",
     "text": [
      "Help on built-in function print in module builtins:\n",
      "\n",
      "print(...)\n",
      "    print(value, ..., sep=' ', end='\\n', file=sys.stdout, flush=False)\n",
      "    \n",
      "    Prints the values to a stream, or to sys.stdout by default.\n",
      "    Optional keyword arguments:\n",
      "    file:  a file-like object (stream); defaults to the current sys.stdout.\n",
      "    sep:   string inserted between values, default a space.\n",
      "    end:   string appended after the last value, default a newline.\n",
      "    flush: whether to forcibly flush the stream.\n",
      "\n"
     ]
    }
   ],
   "source": [
    "help (print)\n"
   ]
  },
  {
   "cell_type": "code",
   "execution_count": null,
   "metadata": {},
   "outputs": [],
   "source": []
  }
 ],
 "metadata": {
  "kernelspec": {
   "display_name": "Python 3",
   "language": "python",
   "name": "python3"
  },
  "language_info": {
   "codemirror_mode": {
    "name": "ipython",
    "version": 3
   },
   "file_extension": ".py",
   "mimetype": "text/x-python",
   "name": "python",
   "nbconvert_exporter": "python",
   "pygments_lexer": "ipython3",
   "version": "3.7.6"
  },
  "toc": {
   "base_numbering": 1,
   "nav_menu": {},
   "number_sections": true,
   "sideBar": true,
   "skip_h1_title": false,
   "title_cell": "Table of Contents",
   "title_sidebar": "Contents",
   "toc_cell": false,
   "toc_position": {},
   "toc_section_display": true,
   "toc_window_display": false
  },
  "varInspector": {
   "cols": {
    "lenName": 16,
    "lenType": 16,
    "lenVar": 40
   },
   "kernels_config": {
    "python": {
     "delete_cmd_postfix": "",
     "delete_cmd_prefix": "del ",
     "library": "var_list.py",
     "varRefreshCmd": "print(var_dic_list())"
    },
    "r": {
     "delete_cmd_postfix": ") ",
     "delete_cmd_prefix": "rm(",
     "library": "var_list.r",
     "varRefreshCmd": "cat(var_dic_list()) "
    }
   },
   "types_to_exclude": [
    "module",
    "function",
    "builtin_function_or_method",
    "instance",
    "_Feature"
   ],
   "window_display": false
  }
 },
 "nbformat": 4,
 "nbformat_minor": 4
}
