{
 "cells": [
  {
   "cell_type": "markdown",
   "metadata": {},
   "source": [
    "# String"
   ]
  },
  {
   "cell_type": "code",
   "execution_count": 2,
   "metadata": {},
   "outputs": [
    {
     "name": "stdout",
     "output_type": "stream",
     "text": [
      "Python is my favorite!\n",
      "Python will be my favorite!\n"
     ]
    }
   ],
   "source": [
    "my_string = 'Python is cool!'\n",
    "\n",
    "my_string.replace('a', '????')\n",
    "print(my_string)\n",
    "\n",
    "my_modified_string = my_string.replace('is', 'will be')\n",
    "print(my_modified_string)"
   ]
  },
  {
   "cell_type": "code",
   "execution_count": 5,
   "metadata": {},
   "outputs": [
    {
     "name": "stdout",
     "output_type": "stream",
     "text": [
      "My name is John Doe, you can call me John.\n",
      "My name is Sara Nada, you can call me Sara.\n"
     ]
    }
   ],
   "source": [
    "print('My name is {} {}, you can call me {}.'.format('John', 'Doe', 'John'))\n",
    "\n",
    "print('My name is {first} {family}, you can call me {first}.'.format(first='Sara', family='Nada'))"
   ]
  },
  {
   "cell_type": "code",
   "execution_count": 9,
   "metadata": {},
   "outputs": [
    {
     "name": "stdout",
     "output_type": "stream",
     "text": [
      "pandas, numpy, requests\n"
     ]
    }
   ],
   "source": [
    "cool_python_libs = ', '.join(['pandas', 'numpy', 'requests'])\n",
    "print(cool_python_libs)"
   ]
  },
  {
   "cell_type": "code",
   "execution_count": 10,
   "metadata": {},
   "outputs": [
    {
     "name": "stdout",
     "output_type": "stream",
     "text": [
      "pandas, numpy, requests\n"
     ]
    }
   ],
   "source": [
    "print('pandas' + ', ' + 'numpy' + ', ' + 'requests')"
   ]
  },
  {
   "cell_type": "code",
   "execution_count": 12,
   "metadata": {},
   "outputs": [
    {
     "name": "stdout",
     "output_type": "stream",
     "text": [
      "PYTHON HACKER\n",
      "python hacker\n",
      "Python Hacker\n"
     ]
    }
   ],
   "source": [
    "mixed_case = 'PyTHoN hackER'\n",
    "print (mixed_case.upper())\n",
    "print (mixed_case.lower())\n",
    "print (mixed_case.title())"
   ]
  },
  {
   "cell_type": "code",
   "execution_count": 13,
   "metadata": {},
   "outputs": [
    {
     "name": "stdout",
     "output_type": "stream",
     "text": [
      "ugly:  \n",
      " \t Some story to tell \n",
      "stripped: Some story to tell\n"
     ]
    }
   ],
   "source": [
    "ugly_formatted = ' \\n \\t Some story to tell '\n",
    "stripped = ugly_formatted.strip()\n",
    "\n",
    "print('ugly: {}'.format(ugly_formatted))\n",
    "print('stripped: {}'.format(ugly_formatted.strip()))"
   ]
  },
  {
   "cell_type": "code",
   "execution_count": 15,
   "metadata": {},
   "outputs": [
    {
     "name": "stdout",
     "output_type": "stream",
     "text": [
      "['three', 'different', 'words?,', 'yes']\n"
     ]
    },
    {
     "data": {
      "text/plain": [
       "list"
      ]
     },
     "execution_count": 15,
     "metadata": {},
     "output_type": "execute_result"
    }
   ],
   "source": [
    "sentence = 'three different words?, yes'\n",
    "words = sentence.split()\n",
    "print(words)\n",
    "type(words)"
   ]
  },
  {
   "cell_type": "code",
   "execution_count": 16,
   "metadata": {},
   "outputs": [
    {
     "name": "stdout",
     "output_type": "stream",
     "text": [
      "['three different words?', ' yes']\n"
     ]
    }
   ],
   "source": [
    "words = sentence.split(',')\n",
    "print(words)"
   ]
  },
  {
   "cell_type": "markdown",
   "metadata": {},
   "source": [
    "# Numbers"
   ]
  },
  {
   "cell_type": "code",
   "execution_count": 21,
   "metadata": {},
   "outputs": [
    {
     "name": "stdout",
     "output_type": "stream",
     "text": [
      "value: 6.0, type: <class 'float'>\n"
     ]
    }
   ],
   "source": [
    "my_int = 6\n",
    "my_float = float(my_int)\n",
    "print('value: {}, type: {}'.format(my_float, type(my_float)))"
   ]
  },
  {
   "cell_type": "code",
   "execution_count": 22,
   "metadata": {},
   "outputs": [
    {
     "name": "stdout",
     "output_type": "stream",
     "text": [
      "1.0\n",
      "1.2\n"
     ]
    }
   ],
   "source": [
    "print(1 / 1)\n",
    "print(6 / 5)"
   ]
  },
  {
   "cell_type": "code",
   "execution_count": 23,
   "metadata": {},
   "outputs": [
    {
     "name": "stdout",
     "output_type": "stream",
     "text": [
      "False\n",
      "0.30000000000000004\n"
     ]
    }
   ],
   "source": [
    "val = 0.1 + 0.1 + 0.1\n",
    "print(val == 0.3)\n",
    "print(val)"
   ]
  },
  {
   "cell_type": "code",
   "execution_count": 24,
   "metadata": {},
   "outputs": [
    {
     "data": {
      "text/plain": [
       "1"
      ]
     },
     "execution_count": 24,
     "metadata": {},
     "output_type": "execute_result"
    }
   ],
   "source": [
    "2 ** 3\n"
   ]
  },
  {
   "cell_type": "code",
   "execution_count": 28,
   "metadata": {},
   "outputs": [
    {
     "name": "stdout",
     "output_type": "stream",
     "text": [
      "from Decimal: 0.1000000000000000055511151231257827021181583404541015625\n",
      "from float: 0.1\n",
      "from string: 0.1\n"
     ]
    }
   ],
   "source": [
    "from decimal import Decimal\n",
    "from_dec = Decimal(0.1)\n",
    "from_float = float(0.1)\n",
    "from_str = Decimal('0.1')\n",
    "print('from Decimal: {}\\nfrom float: {}\\nfrom string: {}'.format(from_dec,from_float, from_str))\n"
   ]
  },
  {
   "cell_type": "code",
   "execution_count": 29,
   "metadata": {},
   "outputs": [
    {
     "name": "stdout",
     "output_type": "stream",
     "text": [
      "True\n"
     ]
    }
   ],
   "source": [
    "my_decimal = Decimal('0.1')\n",
    "sum_of_decimals = my_decimal + my_decimal + my_decimal\n",
    "print(sum_of_decimals == Decimal('0.3'))"
   ]
  },
  {
   "cell_type": "code",
   "execution_count": 30,
   "metadata": {},
   "outputs": [
    {
     "name": "stdout",
     "output_type": "stream",
     "text": [
      "3.0\n",
      "2.5\n"
     ]
    }
   ],
   "source": [
    "print(1 + 2**2 * 3 / 6) # 1 + 4 * 3 / 6 == 1 + 12 / 6 == 1 + 2\n",
    "print((1 + 2**2) * 3 / 6) # (1+4)*3/6= 5*3/6 =15/6"
   ]
  },
  {
   "cell_type": "markdown",
   "metadata": {},
   "source": []
  },
  {
   "cell_type": "code",
   "execution_count": 32,
   "metadata": {},
   "outputs": [
    {
     "name": "stdout",
     "output_type": "stream",
     "text": [
      "False\n",
      "0.30000000000000004\n"
     ]
    }
   ],
   "source": [
    "print(0.1 + 0.2 == 0.3)\n",
    "print (0.1 + 0.2)"
   ]
  },
  {
   "cell_type": "code",
   "execution_count": 33,
   "metadata": {},
   "outputs": [
    {
     "name": "stdout",
     "output_type": "stream",
     "text": [
      "0.3\n",
      "0.30000000000000004\n"
     ]
    }
   ],
   "source": [
    "print(Decimal('0.1')+Decimal('0.2'))\n",
    "print(float('0.1')+float('0.2'))"
   ]
  },
  {
   "cell_type": "markdown",
   "metadata": {},
   "source": [
    "#  Conditionals"
   ]
  },
  {
   "cell_type": "code",
   "execution_count": 34,
   "metadata": {},
   "outputs": [
    {
     "name": "stdout",
     "output_type": "stream",
     "text": [
      "1 <= 2 <= 3: True\n"
     ]
    }
   ],
   "source": [
    "print('1 <= 2 <= 3: {}'.format(1 <= 2 <= 3))"
   ]
  },
  {
   "cell_type": "code",
   "execution_count": 35,
   "metadata": {},
   "outputs": [
    {
     "name": "stdout",
     "output_type": "stream",
     "text": [
      "value is greater than 10 but less than 100\n"
     ]
    }
   ],
   "source": [
    "val = 88\n",
    "if val >= 100:\n",
    "    print('value is equal or greater than 100')\n",
    "elif val > 10:\n",
    "    print('value is greater than 10 but less than 100')\n",
    "else:\n",
    "    print('value is equal or less than 10')"
   ]
  },
  {
   "cell_type": "markdown",
   "metadata": {},
   "source": [
    "# List "
   ]
  },
  {
   "cell_type": "code",
   "execution_count": 37,
   "metadata": {},
   "outputs": [
    {
     "name": "stdout",
     "output_type": "stream",
     "text": [
      "lengths:6\n"
     ]
    }
   ],
   "source": [
    "list_of_misc = [0.2, 5, 'Python', 'is', 'still fun', '!']\n",
    "print('lengths:{}'.format( len(list_of_misc)))"
   ]
  },
  {
   "cell_type": "code",
   "execution_count": 38,
   "metadata": {},
   "outputs": [
    {
     "name": "stdout",
     "output_type": "stream",
     "text": [
      "is\n"
     ]
    }
   ],
   "source": [
    "my_list = ['Python', 'is', 'still', 'cool']\n",
    "print(my_list[1])"
   ]
  },
  {
   "cell_type": "code",
   "execution_count": 41,
   "metadata": {},
   "outputs": [
    {
     "name": "stdout",
     "output_type": "stream",
     "text": [
      "first coordinate: [12.0, 13.3]\n",
      "second element of first coordinate: 13.3\n"
     ]
    }
   ],
   "source": [
    "#Accessing values\n",
    "\n",
    "coordinates = [[12.0, 13.3], [0.6, 18.0], [88.0, 1.1]]  # two dimensional\n",
    "print('first coordinate: {}'.format(coordinates[0]))\n",
    "print('second element of first coordinate: {}'.format(coordinates[0][1]))"
   ]
  },
  {
   "cell_type": "code",
   "execution_count": 42,
   "metadata": {},
   "outputs": [
    {
     "name": "stdout",
     "output_type": "stream",
     "text": [
      "[99, 1, 2, 3, 4, 5]\n",
      "[1, 2, 3, 4, 5]\n"
     ]
    }
   ],
   "source": [
    "#Updating values\n",
    "\n",
    "my_list = [0, 1, 2, 3, 4, 5]\n",
    "my_list[0] = 99\n",
    "print(my_list)\n",
    "\n",
    "# remove first value\n",
    "del my_list[0]\n",
    "print(my_list)"
   ]
  },
  {
   "cell_type": "code",
   "execution_count": 43,
   "metadata": {},
   "outputs": [
    {
     "name": "stdout",
     "output_type": "stream",
     "text": [
      "number 6 is not present\n"
     ]
    }
   ],
   "source": [
    "if 6 not in [1, 2, 3, 7]:\n",
    "    print('number 6 is not present')"
   ]
  },
  {
   "cell_type": "code",
   "execution_count": 44,
   "metadata": {},
   "outputs": [
    {
     "name": "stdout",
     "output_type": "stream",
     "text": [
      "original: [99, 2, 3], modified: [99, 2, 3]\n"
     ]
    }
   ],
   "source": [
    "# Caution!\n",
    "\n",
    "original = [1, 2, 3]\n",
    "modified = original\n",
    "modified[0] = 99\n",
    "print('original: {}, modified: {}'.format(original, modified))"
   ]
  },
  {
   "cell_type": "markdown",
   "metadata": {},
   "source": [
    "You can get around this by creating new list:"
   ]
  },
  {
   "cell_type": "code",
   "execution_count": 46,
   "metadata": {},
   "outputs": [
    {
     "name": "stdout",
     "output_type": "stream",
     "text": [
      "original: [1, 2, 3], modified: [99, 2, 3]\n"
     ]
    }
   ],
   "source": [
    "original = [1, 2, 3]\n",
    "\n",
    "modified = list(original)  #  Option 1: Note list() \n",
    "\n",
    "modified = original.copy() # Option 2: use copy method\n",
    "\n",
    "modified[0] = 99\n",
    "print('original: {}, modified: {}'.format(original, modified))"
   ]
  },
  {
   "cell_type": "code",
   "execution_count": 51,
   "metadata": {},
   "outputs": [
    {
     "name": "stdout",
     "output_type": "stream",
     "text": [
      "[1, 'Java']\n",
      "[1, 'Java', 'ham']\n",
      "[1, 'ham']\n"
     ]
    }
   ],
   "source": [
    "# Append, Remove\n",
    "\n",
    "my_list = [1, 'Java']\n",
    "print(my_list)\n",
    "\n",
    "my_list.append('ham')\n",
    "print(my_list)\n",
    "\n",
    "my_list.remove('Java')\n",
    "print(my_list)\n"
   ]
  },
  {
   "cell_type": "code",
   "execution_count": 55,
   "metadata": {},
   "outputs": [
    {
     "name": "stdout",
     "output_type": "stream",
     "text": [
      "Reverse:   ['ham', 'b', 'a']\n",
      "Sort Asc:   ['a', 'b', 'ham']\n",
      "Sort Desc:   ['ham', 'b', 'a']\n"
     ]
    }
   ],
   "source": [
    "# sort\n",
    "\n",
    "my_list = ['a', 'b', 'ham']\n",
    "\n",
    "my_list.reverse()\n",
    "print('Reverse:   {}'.format(my_list))\n",
    "\n",
    "my_list.sort()\n",
    "print('Sort Asc:   {}'.format(my_list))\n",
    "\n",
    "\n",
    "my_list.sort(reverse=True)\n",
    "print('Sort Desc:   {}'.format(my_list))\n",
    "\n",
    "\n",
    "\n",
    "    "
   ]
  },
  {
   "cell_type": "markdown",
   "metadata": {},
   "source": [
    "While list.sort() sorts the list in-place, sorted(list) returns a new list and leaves the original untouched:"
   ]
  },
  {
   "cell_type": "code",
   "execution_count": 23,
   "metadata": {},
   "outputs": [
    {
     "ename": "NameError",
     "evalue": "name 'numbers' is not defined",
     "output_type": "error",
     "traceback": [
      "\u001b[0;31m---------------------------------------------------------------------------\u001b[0m",
      "\u001b[0;31mNameError\u001b[0m                                 Traceback (most recent call last)",
      "\u001b[0;32m<ipython-input-23-491d1f23ff7e>\u001b[0m in \u001b[0;36m<module>\u001b[0;34m\u001b[0m\n\u001b[1;32m      1\u001b[0m \u001b[0moriginal\u001b[0m \u001b[0;34m=\u001b[0m \u001b[0;34m[\u001b[0m\u001b[0;36m8\u001b[0m\u001b[0;34m,\u001b[0m \u001b[0;36m1\u001b[0m\u001b[0;34m,\u001b[0m \u001b[0;36m6\u001b[0m\u001b[0;34m,\u001b[0m \u001b[0;36m5\u001b[0m\u001b[0;34m,\u001b[0m \u001b[0;36m10\u001b[0m\u001b[0;34m]\u001b[0m\u001b[0;34m\u001b[0m\u001b[0;34m\u001b[0m\u001b[0m\n\u001b[0;32m----> 2\u001b[0;31m \u001b[0msorted_numbers\u001b[0m \u001b[0;34m=\u001b[0m \u001b[0msorted\u001b[0m\u001b[0;34m(\u001b[0m\u001b[0mnumbers\u001b[0m\u001b[0;34m)\u001b[0m\u001b[0;34m\u001b[0m\u001b[0;34m\u001b[0m\u001b[0m\n\u001b[0m\u001b[1;32m      3\u001b[0m \u001b[0mprint\u001b[0m\u001b[0;34m(\u001b[0m\u001b[0;34m'Original: {}, sorted: {}'\u001b[0m\u001b[0;34m.\u001b[0m\u001b[0mformat\u001b[0m\u001b[0;34m(\u001b[0m\u001b[0mnumbers\u001b[0m\u001b[0;34m,\u001b[0m \u001b[0msorted_numbers\u001b[0m\u001b[0;34m)\u001b[0m\u001b[0;34m)\u001b[0m\u001b[0;34m\u001b[0m\u001b[0;34m\u001b[0m\u001b[0m\n",
      "\u001b[0;31mNameError\u001b[0m: name 'numbers' is not defined"
     ]
    }
   ],
   "source": [
    "original = [8, 1, 6, 5, 10]\n",
    "sorted_numbers = sorted(numbers)\n",
    "print('Original: {}, sorted: {}'.format(numbers, sorted_numbers))"
   ]
  },
  {
   "cell_type": "code",
   "execution_count": 58,
   "metadata": {},
   "outputs": [
    {
     "name": "stdout",
     "output_type": "stream",
     "text": [
      "['beef', 'ham', 'potatoes', 1, 3]\n"
     ]
    }
   ],
   "source": [
    "# Extend\n",
    "\n",
    "first_list = ['beef', 'ham']\n",
    "second_list = ['potatoes',1 ,3]\n",
    "first_list.extend(second_list)\n",
    "print( first_list)\n",
    "\n"
   ]
  },
  {
   "cell_type": "code",
   "execution_count": 59,
   "metadata": {},
   "outputs": [
    {
     "name": "stdout",
     "output_type": "stream",
     "text": [
      "first: [1, 2, 3, 4, 5]\n"
     ]
    }
   ],
   "source": [
    "first = [1, 2, 3]\n",
    "second = [4, 5]\n",
    "first += second  # same as: first = first + second\n",
    "print('first: {}'.format(first))"
   ]
  },
  {
   "cell_type": "markdown",
   "metadata": {},
   "source": [
    "# [Dictionaries](https://docs.python.org/3/library/stdtypes.html#dict) "
   ]
  },
  {
   "cell_type": "code",
   "execution_count": 1,
   "metadata": {},
   "outputs": [
    {
     "name": "stdout",
     "output_type": "stream",
     "text": [
      "{'value1': 1.6, 'value2': 10, 'name': 'John Doe'}\n",
      "{'value1': 1.6, 'value2': 10, 'name': 'John Doe'}\n",
      "equal: True\n",
      "length: 3\n"
     ]
    }
   ],
   "source": [
    "dict1 = {'value1': 1.6, 'value2': 10, 'name': 'John Doe'}\n",
    "\n",
    "dict2 = dict(value1=1.6, value2=10, name='John Doe')\n",
    "\n",
    "# This is also a away to initialize a dict (list of tuples) \n",
    "dict3 = dict([('value1': 1.6), ('value2': 10)])\n",
    "\n",
    "\n",
    "print(dict1)\n",
    "print(dict2)\n",
    "\n",
    "print('equal: {}'.format(dict1 == dict2))\n",
    "print('length: {}'.format(len(dict1)))"
   ]
  },
  {
   "cell_type": "code",
   "execution_count": 2,
   "metadata": {},
   "outputs": [
    {
     "name": "stdout",
     "output_type": "stream",
     "text": [
      "keys: dict_keys(['value1', 'value2', 'name'])\n",
      "values: dict_values([1.6, 10, 'John Doe'])\n",
      "items: dict_items([('value1', 1.6), ('value2', 10), ('name', 'John Doe')])\n"
     ]
    }
   ],
   "source": [
    "print('keys: {}'.format(dict1.keys()))\n",
    "print('values: {}'.format(dict1.values()))\n",
    "print('items: {}'.format(dict1.items()))"
   ]
  },
  {
   "cell_type": "code",
   "execution_count": 12,
   "metadata": {},
   "outputs": [
    {
     "name": "stdout",
     "output_type": "stream",
     "text": [
      "{'key1': 'new value', 'key2': 99}\n",
      "99\n",
      "{'key2': 99}\n"
     ]
    }
   ],
   "source": [
    "#Setting and deleting\n",
    "my_dict = {}\n",
    "my_dict['key1'] = 'value1'\n",
    "my_dict['key2'] = 99\n",
    "my_dict['key1'] = 'new value'  # overriding existing value\n",
    "print(my_dict)\n",
    "\n",
    "\n",
    "\n",
    "\n",
    "del my_dict['key1']\n",
    "print(my_dict)\n",
    "\n",
    "if 'key1' in my_dict:\n",
    "    del my_dict['key1']\n",
    "    \n",
    "    \n"
   ]
  },
  {
   "cell_type": "code",
   "execution_count": 16,
   "metadata": {},
   "outputs": [
    {
     "name": "stdout",
     "output_type": "stream",
     "text": [
      "None\n",
      "d: my default value\n"
     ]
    }
   ],
   "source": [
    "# Getting\n",
    "d = my_dict.get('key5')\n",
    "print (d)\n",
    "\n",
    "#Returns `None` if `key` is not in `dict`.\n",
    "#However, you can also specify `default` return value which will be returned if `key` is not present in the `dict`.\n",
    "d = my_dict.get('key5', 'my default value')\n",
    "print('d: {}'.format(d))\n"
   ]
  },
  {
   "cell_type": "code",
   "execution_count": 17,
   "metadata": {},
   "outputs": [
    {
     "name": "stdout",
     "output_type": "stream",
     "text": [
      "dict after popping: {'drink': 'beer', 'sport': 'football'}\n",
      "food again: default value\n"
     ]
    }
   ],
   "source": [
    "#Pop\n",
    "\n",
    "my_dict = dict(food='ham', drink='beer', sport='football')\n",
    "\n",
    "food = my_dict.pop('food')\n",
    "print('dict after popping: {}'.format(my_dict))\n",
    "\n",
    "food_again = my_dict.pop('food', 'default value')\n",
    "print('food again: {}'.format(food_again))"
   ]
  },
  {
   "cell_type": "code",
   "execution_count": 18,
   "metadata": {},
   "outputs": [
    {
     "name": "stdout",
     "output_type": "stream",
     "text": [
      "a: 1\n",
      "d: default\n",
      "my_dict: {'a': 1, 'b': 2, 'c': 3, 'd': 'default'}\n"
     ]
    }
   ],
   "source": [
    "#   dict.setdefault() \n",
    "#Returns the value of key defined as first parameter.\n",
    "#If the key is not present in the dict,\n",
    "#adds key with default value (second parameter).\n",
    "\n",
    "my_dict = {'a': 1, 'b': 2, 'c': 3}\n",
    "a = my_dict.setdefault('a', 'default')\n",
    "d = my_dict.setdefault('d', 'default')\n",
    "\n",
    "print('a: {}\\nd: {}\\nmy_dict: {}'.format(a, d, my_dict))"
   ]
  },
  {
   "cell_type": "code",
   "execution_count": 7,
   "metadata": {},
   "outputs": [
    {
     "name": "stdout",
     "output_type": "stream",
     "text": [
      "equal: True\n",
      "equal: False\n"
     ]
    }
   ],
   "source": [
    "#Copying\n",
    "\n",
    "dict1 = my_dict   # Caution\n",
    "dict1['test1'] = 'YES'\n",
    "print('equal: {}'.format(my_dict == dict1))\n",
    "\n",
    "dict2 = dict(my_dict)  #Create a new dict if you want to have a copy:\n",
    "dict2['Test2'] = 'NO'\n",
    "print('equal: {}'.format(my_dict == dict2))"
   ]
  },
  {
   "cell_type": "code",
   "execution_count": 21,
   "metadata": {},
   "outputs": [
    {
     "name": "stdout",
     "output_type": "stream",
     "text": [
      "{'a': 1, 'b': 2, 'c': 3}\n",
      "{'a': 1, 'b': 2, 'c': 4}\n"
     ]
    }
   ],
   "source": [
    "#dict.update()\n",
    "#Merge two dicts\n",
    "\n",
    "dict1 = {'a': 1, 'b': 2}\n",
    "dict2 = {'c': 3}\n",
    "dict1.update(dict2)\n",
    "print(dict1)\n",
    "\n",
    "# If they have same keys:\n",
    "dict1.update({'c': 4})\n",
    "print(dict1)"
   ]
  },
  {
   "cell_type": "code",
   "execution_count": 32,
   "metadata": {},
   "outputs": [
    {
     "name": "stdout",
     "output_type": "stream",
     "text": [
      "{'Ritika': 5, 'Sam': 20, 'John': 10, 'Aadi': 8, 'Mark': 11}\n",
      "{'Ritika': 5, 'Sam': [20, 7], 'John': 10, 'Aadi': 8, 'Mark': 11}\n"
     ]
    }
   ],
   "source": [
    "#Merge using **kwargs\n",
    "dict1 = {  'Ritika': 5, 'Sam': 7, 'John' : 10 }\n",
    "dict2 = {'Aadi': 8,'Sam': 20,'Mark' : 11 }\n",
    "\n",
    "#When we apply ** to this dictionary, it de-serializes the contents of dictionary\n",
    "#to a collection of key/value pairs \n",
    "# i.e. **dict1 => 'Ritika': 5, 'Sam': 7, 'John' : 10\n",
    "\n",
    "dict3 = {**dict1 , **dict2}\n",
    "print(dict3)\n",
    "\n",
    "# to include all values for common keys\n",
    "for key, value in dict3.items():\n",
    "       if key in dict1 and key in dict2:\n",
    "               dict3[key] = [value , dict1[key]]\n",
    "                \n",
    "print(dict3)\n",
    "\n"
   ]
  },
  {
   "cell_type": "code",
   "execution_count": 26,
   "metadata": {},
   "outputs": [
    {
     "name": "stdout",
     "output_type": "stream",
     "text": [
      "['Python', 'is', 'still', 'cool']\n",
      "Python\n"
     ]
    }
   ],
   "source": [
    "#The keys of a dict have to be immutable\n",
    "#Thus you can not use \n",
    "#e.g. a list or a dict as key because they are mutable types \n",
    "\n",
    "# bad_dict = {['my_list'], 'value'}  # Raises TypeError\n",
    "\n",
    "#Values can be mutable\n",
    "good_dict = {'key': ['Python', 'is', 'still', 'cool']}\n",
    "print(good_dict['key'])\n",
    "print(good_dict['key'][0])"
   ]
  },
  {
   "cell_type": "markdown",
   "metadata": {},
   "source": [
    "## Dictionary Comprehension"
   ]
  },
  {
   "cell_type": "code",
   "execution_count": 1,
   "metadata": {},
   "outputs": [
    {
     "name": "stdout",
     "output_type": "stream",
     "text": [
      "{1: 1, 2: 0, 3: 1, 4: 0, 5: 1, 6: 0, 7: 1, 8: 0, 9: 1}\n"
     ]
    }
   ],
   "source": [
    "# Dictionary stores 1 for odd keys, 0 for even keys\n",
    "odd = {key: key % 2 for key in range(1, 10)}\n",
    " \n",
    "# Printing the dictionary\n",
    "print(odd)"
   ]
  },
  {
   "cell_type": "code",
   "execution_count": 2,
   "metadata": {},
   "outputs": [
    {
     "name": "stdout",
     "output_type": "stream",
     "text": [
      "{'Mumbai': 97.7, 'Delhi': 81.68, 'Bangalore': 89.78, 'Dholakpur': 104.72}\n"
     ]
    }
   ],
   "source": [
    "# Temperatures in Celcius\n",
    "celcius = {\"Mumbai\":36.5, \"Delhi\":27.6, \"Bangalore\":32.1, \"Dholakpur\":40.4}\n",
    " \n",
    "# Temperature in Fahrenheit\n",
    "fahrenheit = {key: value*(9/5) + 32 for key,value in celcius.items()}\n",
    " \n",
    "# Printing the temperatures\n",
    "print(fahrenheit)"
   ]
  },
  {
   "cell_type": "code",
   "execution_count": 3,
   "metadata": {},
   "outputs": [
    {
     "name": "stdout",
     "output_type": "stream",
     "text": [
      "{2: 1, 5: 1, 6: 1, 12: 1, 9: 1, 7: 1}\n"
     ]
    }
   ],
   "source": [
    "#Presence of elements\n",
    "# A list of integers\n",
    "lis = [2, 5, 6, 12, 9, 7]\n",
    " \n",
    "# A dictionary for look-up if element is present in list\n",
    "present = {key: 1 for key in lis}\n",
    " \n",
    "# Printing the Dictionary\n",
    "print(present)"
   ]
  },
  {
   "cell_type": "code",
   "execution_count": 4,
   "metadata": {},
   "outputs": [
    {
     "name": "stdout",
     "output_type": "stream",
     "text": [
      "{'one': 1, 'two': 2, 'three': 3, 'four': 4, 'five': 5}\n"
     ]
    }
   ],
   "source": [
    "#Inverting a Dictionary\n",
    "\n",
    "# A dictionary containing numbers in integers and strings\n",
    "numbers = {1: \"one\", 2: \"two\", 3:\"three\", 4: \"four\", 5: \"five\"}\n",
    " \n",
    "# Inverting a Python dictionary\n",
    "invert_numbers = {value: key for key, value in numbers.items()}\n",
    " \n",
    "# Printing the inverted dictionary\n",
    "print(invert_numbers)"
   ]
  },
  {
   "cell_type": "code",
   "execution_count": 5,
   "metadata": {},
   "outputs": [
    {
     "name": "stdout",
     "output_type": "stream",
     "text": [
      "Hot places = {'Mumbai': 36.5, 'Dholakpur': 40.4}\n",
      "Cold places = {'Delhi': 27.6, 'Bangalore': 32.1}\n"
     ]
    }
   ],
   "source": [
    "#Conditional Dictionary Comprehension\n",
    "\n",
    "# Temperatures\n",
    "temp = {\"Mumbai\":36.5, \"Delhi\":27.6, \"Bangalore\":32.1, \"Dholakpur\":40.4}\n",
    " \n",
    "# Places with high temperature\n",
    "hot = {key: value for key, value in temp.items() if value >= 35}\n",
    " \n",
    "# Places with low temperatures\n",
    "cold = {key: value for key, value in temp.items() if value < 35}\n",
    " \n",
    "# Printing the dictionaries\n",
    "print(\"Hot places =\", hot)\n",
    "print(\"Cold places =\", cold)"
   ]
  },
  {
   "cell_type": "code",
   "execution_count": 6,
   "metadata": {},
   "outputs": [
    {
     "name": "stdout",
     "output_type": "stream",
     "text": [
      "Hot places = {'Mumbai': 'hot', 'Delhi': 'cold', 'Bangalore': 'cold', 'Dholakpur': 'hot'}\n"
     ]
    }
   ],
   "source": [
    "# Temperatures\n",
    "temp = {\"Mumbai\":36.5, \"Delhi\":27.6, \"Bangalore\":32.1, \"Dholakpur\":40.4}\n",
    " \n",
    "# Places with their type of temperature\n",
    "hot_or_cold = {key: ('hot' if value >= 35 else 'cold') for key, value in temp.items()}\n",
    " \n",
    "# Printing the dictionary\n",
    "print(\"Hot places =\", hot_or_cold)\n"
   ]
  },
  {
   "cell_type": "code",
   "execution_count": 7,
   "metadata": {},
   "outputs": [
    {
     "name": "stdout",
     "output_type": "stream",
     "text": [
      "{'Mumbai': 36.5}\n"
     ]
    }
   ],
   "source": [
    "# Temperatures\n",
    "temp = {\"Mumbai\":36.5, \"Delhi\":27.6, \"Bangalore\":32.1, \"Dholakpur\":40.4}\n",
    " \n",
    "# Hot places starting with M\n",
    "hot_M = {key: value for key, value in temp.items() if value >= 35 if key.startswith('M')}\n",
    " \n",
    "# Printing the dictionary\n",
    "print(hot_M)"
   ]
  },
  {
   "cell_type": "code",
   "execution_count": 8,
   "metadata": {},
   "outputs": [
    {
     "name": "stdout",
     "output_type": "stream",
     "text": [
      "{1: {1: 1, 2: 2, 3: 3, 4: 4, 5: 5, 6: 6, 7: 7, 8: 8, 9: 9},\n",
      " 2: {1: 2, 2: 4, 3: 6, 4: 8, 5: 10, 6: 12, 7: 14, 8: 16, 9: 18},\n",
      " 3: {1: 3, 2: 6, 3: 9, 4: 12, 5: 15, 6: 18, 7: 21, 8: 24, 9: 27},\n",
      " 4: {1: 4, 2: 8, 3: 12, 4: 16, 5: 20, 6: 24, 7: 28, 8: 32, 9: 36},\n",
      " 5: {1: 5, 2: 10, 3: 15, 4: 20, 5: 25, 6: 30, 7: 35, 8: 40, 9: 45},\n",
      " 6: {1: 6, 2: 12, 3: 18, 4: 24, 5: 30, 6: 36, 7: 42, 8: 48, 9: 54},\n",
      " 7: {1: 7, 2: 14, 3: 21, 4: 28, 5: 35, 6: 42, 7: 49, 8: 56, 9: 63},\n",
      " 8: {1: 8, 2: 16, 3: 24, 4: 32, 5: 40, 6: 48, 7: 56, 8: 64, 9: 72},\n",
      " 9: {1: 9, 2: 18, 3: 27, 4: 36, 5: 45, 6: 54, 7: 63, 8: 72, 9: 81}}\n",
      "\n",
      "5 x 7 = 35\n",
      "3 x 6 = 18\n",
      "8 x 9 = 72\n"
     ]
    }
   ],
   "source": [
    "# Nested dictionary comprehension\n",
    "\n",
    "# Importing the pretty print library\n",
    "import pprint\n",
    " \n",
    "# Creating multiplication tables\n",
    "tables = {key1:{key2: key1*key2 for key2 in range(1, 10)} for key1 in range(1, 10)}\n",
    " \n",
    "# Printing the multiplication tables\n",
    "pprint.pprint(tables)\n",
    "print()\n",
    " \n",
    "# Fetch multiplication values\n",
    "print(\"5 x 7 =\", tables[5][7])\n",
    "print(\"3 x 6 =\", tables[3][6])\n",
    "print(\"8 x 9 =\", tables[9][8])"
   ]
  },
  {
   "cell_type": "markdown",
   "metadata": {},
   "source": [
    "# [Loops](https://docs.python.org/3/tutorial/controlflow.html#for-statements)"
   ]
  },
  {
   "cell_type": "code",
   "execution_count": 4,
   "metadata": {},
   "outputs": [
    {
     "name": "stdout",
     "output_type": "stream",
     "text": [
      "2\n",
      "3\n",
      "4\n",
      "Python\n"
     ]
    }
   ],
   "source": [
    "my_list = [1, 2, 3, 4, 'Python', 'is', 'neat']\n",
    "for item in my_list:\n",
    "    if item == 'is':\n",
    "        break\n",
    "    if item == 1:\n",
    "        continue\n",
    "    print(item)\n",
    "        \n"
   ]
  },
  {
   "cell_type": "code",
   "execution_count": 6,
   "metadata": {},
   "outputs": [
    {
     "name": "stdout",
     "output_type": "stream",
     "text": [
      "idx: 0, value: 1\n",
      "idx: 1, value: 2\n",
      "idx: 2, value: 3\n",
      "idx: 3, value: 4\n",
      "idx: 4, value: Python\n",
      "idx: 5, value: is\n",
      "idx: 6, value: neat\n"
     ]
    }
   ],
   "source": [
    "#enumerate()\n",
    "\n",
    "for idx, val in enumerate(my_list):\n",
    "    print('idx: {}, value: {}'.format(idx, val))"
   ]
  },
  {
   "cell_type": "code",
   "execution_count": 34,
   "metadata": {},
   "outputs": [
    {
     "name": "stdout",
     "output_type": "stream",
     "text": [
      "hacker: True\n",
      "age: True\n",
      "name: True\n"
     ]
    }
   ],
   "source": [
    "#Looping dictionaries\n",
    "\n",
    "dict1 = {'hacker': True, 'age': 72, 'name': 'John Doe'}\n",
    "for val in dict1:\n",
    "    print(val, end=': ')\n",
    "    print (dict1.get('hacker'))\n",
    " "
   ]
  },
  {
   "cell_type": "code",
   "execution_count": 35,
   "metadata": {},
   "outputs": [
    {
     "name": "stdout",
     "output_type": "stream",
     "text": [
      "hacker:True\n",
      "age:72\n",
      "name:John Doe\n"
     ]
    }
   ],
   "source": [
    "dict1 = {'hacker': True, 'age': 72, 'name': 'John Doe'}\n",
    "for key, val in dict1.items():\n",
    "    print('{}:{}'.format(key, val))"
   ]
  },
  {
   "cell_type": "code",
   "execution_count": 32,
   "metadata": {},
   "outputs": [
    {
     "name": "stdout",
     "output_type": "stream",
     "text": [
      "0 1 2 3 4 \n",
      "2 3 4 \n",
      "0 2 4 6 8 "
     ]
    }
   ],
   "source": [
    "# range()\n",
    "\n",
    "for number in range(5): #0 to 5\n",
    "    print(number, end=\" \")\n",
    "\n",
    "print()\n",
    "for number in range(2, 5):  #2 to 5\n",
    "    print(number, end=\" \")\n",
    "    \n",
    "print()\n",
    "for number in range(0, 10, 2): # last one is step\n",
    "    print(number, end=\" \")"
   ]
  },
  {
   "cell_type": "markdown",
   "metadata": {},
   "source": [
    "Question: Calculate the sum of the values in magic_dict by taking only into account numeric values (hint: see isinstance)."
   ]
  },
  {
   "cell_type": "code",
   "execution_count": 36,
   "metadata": {},
   "outputs": [],
   "source": [
    "#Calculate the sum of the values in magic_dict by taking only into account numeric values (hint: see isinstance).\n",
    "\n",
    "magic_dict = dict(val1=44, val2='secret value', val3=55.0, val4=1)\n",
    "\n",
    "sum_of_values = 0  \n",
    "for key, value in magic_dict.items():  \n",
    "    if  isinstance(value,(int, float, complex)):\n",
    "        sum_of_values += value  "
   ]
  },
  {
   "cell_type": "markdown",
   "metadata": {},
   "source": [
    "# Functions"
   ]
  },
  {
   "cell_type": "code",
   "execution_count": 37,
   "metadata": {},
   "outputs": [
    {
     "name": "stdout",
     "output_type": "stream",
     "text": [
      "{'name': 'John Doe', 'age': 82, 'salary': 300}\n",
      "{'name': 'Lisa Doe', 'age': 22, 'salary': 10000, 'job': 'hacker'}\n"
     ]
    }
   ],
   "source": [
    "def create_person_info(name, age, job=None, salary=300):\n",
    "    info = {'name': name, 'age': age, 'salary': salary}\n",
    "    \n",
    "    # Add 'job' key only if it's provided as parameter\n",
    "    if job:  \n",
    "        info.update(dict(job=job))\n",
    "        \n",
    "    return info\n",
    "\n",
    "person1 = create_person_info('John Doe', 82)  # use default values for job and salary\n",
    "person2 = create_person_info('Lisa Doe', 22, 'hacker', 10000)\n",
    "print(person1)\n",
    "print(person2)"
   ]
  },
  {
   "cell_type": "code",
   "execution_count": 41,
   "metadata": {},
   "outputs": [],
   "source": [
    "#  pass statement\n",
    "#pass is a statement which does nothing when it's executed. \n",
    "\n",
    "def my_function(some_argument):\n",
    "    pass"
   ]
  },
  {
   "cell_type": "markdown",
   "metadata": {},
   "source": [
    "### Docstrings\n",
    "Strings for documenting your functions, methods, modules and variables."
   ]
  },
  {
   "cell_type": "code",
   "execution_count": 40,
   "metadata": {},
   "outputs": [
    {
     "name": "stdout",
     "output_type": "stream",
     "text": [
      "Help on function print_sum in module __main__:\n",
      "\n",
      "print_sum(val1, val2)\n",
      "    Function which prints the sum of given arguments.\n",
      "\n",
      "None\n"
     ]
    }
   ],
   "source": [
    "def print_sum(val1, val2):\n",
    "    \"\"\"Function which prints the sum of given arguments.\"\"\"\n",
    "    print('sum: {}'.format(val1 + val2))\n",
    "\n",
    "print(help(print_sum))\n",
    "\n"
   ]
  },
  {
   "cell_type": "code",
   "execution_count": 39,
   "metadata": {},
   "outputs": [
    {
     "name": "stdout",
     "output_type": "stream",
     "text": [
      "Help on function calculate_sum in module __main__:\n",
      "\n",
      "calculate_sum(val1, val2)\n",
      "    This is a longer docstring defining also the args and the return value. \n",
      "    \n",
      "    Args:\n",
      "        val1: The first parameter.\n",
      "        val2: The second parameter.\n",
      "    \n",
      "    Returns:\n",
      "        The sum of val1 and val2.\n",
      "\n",
      "None\n"
     ]
    }
   ],
   "source": [
    "def calculate_sum(val1, val2):\n",
    "    \"\"\"This is a longer docstring defining also the args and the return value. \n",
    "\n",
    "    Args:\n",
    "        val1: The first parameter.\n",
    "        val2: The second parameter.\n",
    "\n",
    "    Returns:\n",
    "        The sum of val1 and val2.\n",
    "        \n",
    "    \"\"\"\n",
    "    return val1 + val2\n",
    "\n",
    "print(help(calculate_sum))"
   ]
  },
  {
   "cell_type": "markdown",
   "metadata": {},
   "source": [
    "# [File I/O](https://docs.python.org/3/tutorial/inputoutput.html#reading-and-writing-files)\n",
    "Reading and writing files."
   ]
  },
  {
   "cell_type": "code",
   "execution_count": 47,
   "metadata": {},
   "outputs": [
    {
     "name": "stdout",
     "output_type": "stream",
     "text": [
      "current file: /Users/fatemehjahedpari/Documents/Data Challenges/Python-CheatSheet/Python Cheat Sheet.ipynb\n",
      "current directory: /Users/fatemehjahedpari/Documents/Data Challenges/Python-CheatSheet\n",
      "data directory: /Users/fatemehjahedpari/Documents/Data Challenges/Python-CheatSheet/data\n",
      "exists: True\n",
      "is file: False\n",
      "is directory: True\n",
      "First line\n",
      "Second line\n",
      "Third\n",
      "And so the story goes!\n"
     ]
    }
   ],
   "source": [
    "import os\n",
    "\n",
    "current_file = os.path.realpath('Python Cheat Sheet.ipynb')  \n",
    "print('current file: {}'.format(current_file))\n",
    "# Note: in .py files you can get the path of current file by __file__\n",
    "\n",
    "current_dir = os.path.dirname(current_file)  \n",
    "print('current directory: {}'.format(current_dir))\n",
    "# Note: in .py files you can get the dir of current file by os.path.dirname(__file__)\n",
    "\n",
    "data_dir = os.path.join(current_dir, 'data')\n",
    "print('data directory: {}'.format(data_dir))\n",
    "\n",
    " \n",
    "# Checking if path exists\n",
    "\n",
    "print('exists: {}'.format(os.path.exists(data_dir)))\n",
    "print('is file: {}'.format(os.path.isfile(data_dir)))\n",
    "print('is directory: {}'.format(os.path.isdir(data_dir)))\n",
    "\n",
    "\n",
    "#Reading Files \n",
    "file_path = os.path.join(data_dir, 'simple_file.txt')\n",
    "\n",
    "with open(file_path, 'r') as simple_file:\n",
    "    for line in simple_file:\n",
    "        print(line.strip())\n",
    "        \n",
    "# Writing Files\n",
    "new_file_path = os.path.join(data_dir, 'new_file.txt')\n",
    "\n",
    "with open(new_file_path, 'w') as my_file:\n",
    "    my_file.write('This is my first file that I wrote with Python.')\n",
    "\n",
    "# Deleting Files\n",
    "if os.path.exists(new_file_path):  # make sure it's there\n",
    "    os.remove(new_file_path)"
   ]
  },
  {
   "cell_type": "code",
   "execution_count": 48,
   "metadata": {},
   "outputs": [
    {
     "name": "stdout",
     "output_type": "stream",
     "text": [
      "/Users/fatemehjahedpari/Documents/Data Challenges/Python-CheatSheet\n",
      "/Users/fatemehjahedpari/Documents/Data Challenges\n"
     ]
    }
   ],
   "source": [
    "print(current_dir)\n",
    "print(os.path.dirname(current_dir))\n"
   ]
  },
  {
   "cell_type": "markdown",
   "metadata": {},
   "source": [
    "# [Classes](https://docs.python.org/3/tutorial/classes.html#a-first-look-at-classes)"
   ]
  },
  {
   "cell_type": "code",
   "execution_count": 54,
   "metadata": {},
   "outputs": [
    {
     "name": "stdout",
     "output_type": "stream",
     "text": [
      "instance_variable: foo, name: Modified name, description: Just an example of a simple class\n",
      "instance_variable: bar, name: Modified name, description: Just an example of a simple class\n",
      "This is the string presentation of inst1:  this is the string to be returned for instance foo\n"
     ]
    }
   ],
   "source": [
    "class Example:\n",
    "    # These are class variables\n",
    "    name = 'Example class'\n",
    "    description = 'Just an example of a simple class'\n",
    "\n",
    "    def __init__(self, var1):\n",
    "        # This is an instance variable\n",
    "        self.instance_variable = var1\n",
    "\n",
    "    def show_info(self):\n",
    "        info = 'instance_variable: {}, name: {}, description: {}'.format(\n",
    "            self.instance_variable, Example.name, Example.description)\n",
    "        print(info)\n",
    "        \n",
    "    def __str__(self):\n",
    "        return(\" this is the string to be returned for instance {}\".format(self.instance_variable))\n",
    "\n",
    "\n",
    "inst1 = Example('foo')\n",
    "inst2 = Example('bar')\n",
    "\n",
    "# name and description have identical values between instances\n",
    "assert inst1.name == inst2.name == Example.name\n",
    "assert inst1.description == inst2.description == Example.description\n",
    "\n",
    "# If you change the value of a class variable, it's changed across all instances\n",
    "Example.name = 'Modified name'\n",
    "inst1.show_info()\n",
    "inst2.show_info()\n",
    "print('This is the string presentation of inst1: {}'.format(inst1))\n"
   ]
  },
  {
   "cell_type": "markdown",
   "metadata": {},
   "source": [
    "# Inheritance"
   ]
  },
  {
   "cell_type": "code",
   "execution_count": 55,
   "metadata": {},
   "outputs": [],
   "source": [
    "class Animal:\n",
    "    def greet(self):\n",
    "        print('Hello, I am an animal')\n",
    "\n",
    "    @property\n",
    "    def favorite_food(self):\n",
    "        return 'beef'\n",
    "\n",
    "\n",
    "class Dog(Animal):\n",
    "    def greet(self):\n",
    "        print('wof wof')\n",
    "\n",
    "\n",
    "class Cat(Animal):\n",
    "    @property\n",
    "    def favorite_food(self):\n",
    "        return 'fish'"
   ]
  },
  {
   "cell_type": "code",
   "execution_count": 56,
   "metadata": {},
   "outputs": [
    {
     "name": "stdout",
     "output_type": "stream",
     "text": [
      "wof wof\n",
      "Dog's favorite food is beef\n",
      "Hello, I am an animal\n",
      "Cat's favorite food is fish\n"
     ]
    }
   ],
   "source": [
    "dog = Dog()\n",
    "dog.greet()\n",
    "print(\"Dog's favorite food is {}\".format(dog.favorite_food))\n",
    "\n",
    "cat = Cat()\n",
    "cat.greet()\n",
    "print(\"Cat's favorite food is {}\".format(cat.favorite_food))"
   ]
  },
  {
   "cell_type": "markdown",
   "metadata": {},
   "source": [
    "# [Exceptions](https://docs.python.org/3/library/exceptions.html#concrete-exceptions)"
   ]
  },
  {
   "cell_type": "code",
   "execution_count": 59,
   "metadata": {},
   "outputs": [
    {
     "name": "stdout",
     "output_type": "stream",
     "text": [
      "Exception: unsupported operand type(s) for /: 'int' and 'str'\n",
      "result2: 0\n"
     ]
    }
   ],
   "source": [
    "def calculate_division(var1, var2):\n",
    "    result = 0\n",
    "    \n",
    "    try:\n",
    "        result = var1 / var2\n",
    "    except ZeroDivisionError as ex1:\n",
    "        print(\"Can't divide by zero\")\n",
    "    except Exception as ex2:\n",
    "        print('Exception: {}'.format(ex2))\n",
    "\n",
    "    return result\n",
    "\n",
    "result2 = calculate_division(3, '3')\n",
    "print('result2: {}'.format(result2))"
   ]
  },
  {
   "cell_type": "markdown",
   "metadata": {},
   "source": [
    "## Creating your custom exceptions"
   ]
  },
  {
   "cell_type": "code",
   "execution_count": 60,
   "metadata": {},
   "outputs": [],
   "source": [
    "import math\n",
    "\n",
    "# Define your own exception\n",
    "class NegativeNumbersNotSupported(Exception):\n",
    "    pass\n",
    "\n",
    "# Dummy example how to use your custom exception\n",
    "def secret_calculation(number1, number2):\n",
    "    if number1 < 0 or number2 < 0:\n",
    "        msg = 'Negative number in at least one of the parameters: {}, {}'.format(\n",
    "            number1, number2)\n",
    "        raise NegativeNumbersNotSupported(msg)\n",
    "\n",
    "    return math.sqrt(number1) + math.sqrt(number2)\n",
    "\n",
    "# Uncomment to see the traceback\n",
    "#result = secret_calculation(-1, 1)"
   ]
  },
  {
   "cell_type": "markdown",
   "metadata": {},
   "source": [
    "# Debugging with [`pdb`](https://docs.python.org/3/library/pdb.html#module-pdb)\n",
    "\n",
    "Your program does not always behave how you would expect it to behave. If the origin of the mistake is unclear, debugging is usually the most effective to find the root cause of the unexpected behavior.\n",
    "\n",
    "The basic use case for debugging is that you want to stop the execution of your program at some certain point and monitor variable values or program execution in general from that specific point onward. You stop the execution at the point you want by setting a breakpoint into code by import pdb; pdb.set_trace() (note in Python versions >= 3.7, there's a shortcut: breakpoint()).\n",
    "\n",
    "When you execute your program, the execution will stop at this point and will enter to interactive debugger session. You can add as many breakpoints into your code as you want.\n",
    "\n",
    "Useful commands\n",
    "See the full list [here](https://docs.python.org/3/library/pdb.html#debugger-commands).\n",
    "\n",
    "* `h` or `help`: Prints a list of available commands. If you give an argument, e.g. `help continue`, prints help of the `continue` command.\n",
    "* `l` or `list`: List a piece of code around the current position.\n",
    "* `n` or `next`: Execute next line.\n",
    "* `s` or `step`: Same as `next` but \"steps into\" the function called in the next line.\n",
    "* `c` or `continue`: Continue execution until next breakpoint.\n",
    "* `r` or `return`: Continue execution until the return of current function.\n",
    "* `q` or `quit`: Quit debugger and abort program execution.\n",
    "\n",
    "Note that you can see the value of any variable by typing the variable name during the debugging session. You can also execute arbitrary code during the debugging session."
   ]
  },
  {
   "cell_type": "markdown",
   "metadata": {},
   "source": [
    "# [`logging`](https://docs.python.org/3/library/logging.html#module-logging)\n"
   ]
  },
  {
   "cell_type": "code",
   "execution_count": 3,
   "metadata": {},
   "outputs": [
    {
     "name": "stderr",
     "output_type": "stream",
     "text": [
      "This is warning\n",
      "This is error\n",
      "This is critical\n",
      "ERROR:root:All went south in my calculation\n",
      "Traceback (most recent call last):\n",
      "  File \"<ipython-input-3-3754ea15de24>\", line 14, in <module>\n",
      "    path_calculation = 1 / 0\n",
      "ZeroDivisionError: division by zero\n"
     ]
    }
   ],
   "source": [
    "import logging\n",
    "\n",
    "# Handy way for getting a dedicated logger for every module separately\n",
    "logger = logging.getLogger(__name__)\n",
    "logger.setLevel(logging.WARNING)\n",
    "\n",
    "logger.debug('This is debug')\n",
    "logger.info('This is info')\n",
    "logger.warning('This is warning')\n",
    "logger.error('This is error')\n",
    "logger.critical('This is critical')\n"
   ]
  },
  {
   "cell_type": "code",
   "execution_count": 4,
   "metadata": {},
   "outputs": [
    {
     "name": "stderr",
     "output_type": "stream",
     "text": [
      "ERROR:root:All went south in my calculation\n",
      "Traceback (most recent call last):\n",
      "  File \"<ipython-input-4-ccd7d25e79b7>\", line 2, in <module>\n",
      "    path_calculation = 1 / 0\n",
      "ZeroDivisionError: division by zero\n"
     ]
    }
   ],
   "source": [
    "\n",
    "try:\n",
    "    path_calculation = 1 / 0\n",
    "except ZeroDivisionError:\n",
    "    logging.exception('All went south in my calculation')"
   ]
  },
  {
   "cell_type": "markdown",
   "metadata": {},
   "source": [
    "# Goodies of the [Python Standard Library](https://docs.python.org/3/library/#the-python-standard-library)\n",
    "The Python Standard Libary is part of your Python installation. It contains a wide range of packages which may be helpful while building your Python masterpieces. This notebook lists some of the commonly used packages and their main functionalities."
   ]
  },
  {
   "cell_type": "markdown",
   "metadata": {},
   "source": [
    "## [`datetime`](https://docs.python.org/3/library/datetime.html#module-datetime) for working with dates and times"
   ]
  },
  {
   "cell_type": "code",
   "execution_count": 1,
   "metadata": {},
   "outputs": [
    {
     "name": "stdout",
     "output_type": "stream",
     "text": [
      "local now: 2020-10-17 10:12:06.748289\n",
      "utc now: 2020-10-17 06:12:06.748599\n",
      "2020 10 17 10 12 6\n",
      "date: 2020-10-17\n",
      "time: 10:12:06.748289\n"
     ]
    }
   ],
   "source": [
    "import datetime as dt\n",
    "\n",
    "local_now = dt.datetime.now()\n",
    "print('local now: {}'.format(local_now))\n",
    "\n",
    "utc_now = dt.datetime.utcnow()\n",
    "print('utc now: {}'.format(utc_now))\n",
    "\n",
    "# You can access any value separately:\n",
    "print('{} {} {} {} {} {}'.format(local_now.year, local_now.month,\n",
    "                                 local_now.day, local_now.hour,\n",
    "                                 local_now.minute, local_now.second))\n",
    "\n",
    "print('date: {}'.format(local_now.date()))\n",
    "print('time: {}'.format(local_now.time()))"
   ]
  },
  {
   "cell_type": "markdown",
   "metadata": {},
   "source": [
    "### `strftime()`\n",
    "For string formatting the `datetime`"
   ]
  },
  {
   "cell_type": "code",
   "execution_count": 2,
   "metadata": {},
   "outputs": [
    {
     "name": "stdout",
     "output_type": "stream",
     "text": [
      "2020/10/17-10:12:06\n",
      "date: 2020-10-17 time:10:12:06\n"
     ]
    }
   ],
   "source": [
    "formatted1 = local_now.strftime('%Y/%m/%d-%H:%M:%S')\n",
    "print(formatted1)\n",
    "\n",
    "formatted2 = local_now.strftime('date: %Y-%m-%d time:%H:%M:%S')\n",
    "print(formatted2)"
   ]
  },
  {
   "cell_type": "markdown",
   "metadata": {},
   "source": [
    "### `strptime()`\n",
    "For converting a datetime string into a `datetime` object "
   ]
  },
  {
   "cell_type": "code",
   "execution_count": 3,
   "metadata": {},
   "outputs": [
    {
     "name": "stdout",
     "output_type": "stream",
     "text": [
      "my_dt: 2000-01-01 10:00:00\n"
     ]
    }
   ],
   "source": [
    "my_dt = dt.datetime.strptime('2000-01-01 10:00:00', '%Y-%m-%d %H:%M:%S')\n",
    "print('my_dt: {}'.format(my_dt))"
   ]
  },
  {
   "cell_type": "markdown",
   "metadata": {},
   "source": [
    "### [`timedelta`](https://docs.python.org/3/library/datetime.html#timedelta-objects)\n",
    "For working with time difference."
   ]
  },
  {
   "cell_type": "code",
   "execution_count": 4,
   "metadata": {},
   "outputs": [
    {
     "name": "stdout",
     "output_type": "stream",
     "text": [
      "tomorrow this time: 2020-10-18 10:12:06.748289\n",
      "tomorrow - now = 1 day, 0:00:00\n",
      "days: 1, seconds: 0\n",
      "total seconds: 86400.0\n"
     ]
    }
   ],
   "source": [
    "tomorrow = local_now + dt.timedelta(days=1)\n",
    "print('tomorrow this time: {}'.format(tomorrow))\n",
    "\n",
    "delta = tomorrow - local_now\n",
    "print('tomorrow - now = {}'.format(delta))\n",
    "print('days: {}, seconds: {}'.format(delta.days, delta.seconds))\n",
    "print('total seconds: {}'.format(delta.total_seconds()))"
   ]
  },
  {
   "cell_type": "markdown",
   "metadata": {},
   "source": [
    "### Working with timezones\n",
    "Let's first make sure [`pytz`](http://pytz.sourceforge.net/) is installed."
   ]
  },
  {
   "cell_type": "code",
   "execution_count": 5,
   "metadata": {},
   "outputs": [
    {
     "name": "stdout",
     "output_type": "stream",
     "text": [
      "Requirement already satisfied: pytz in /Users/fatemehjahedpari/opt/anaconda3/lib/python3.7/site-packages (2020.1)\r\n"
     ]
    }
   ],
   "source": [
    "import sys\n",
    "!{sys.executable} -m pip install pytz"
   ]
  },
  {
   "cell_type": "code",
   "execution_count": 6,
   "metadata": {},
   "outputs": [
    {
     "name": "stdout",
     "output_type": "stream",
     "text": [
      "naive utc now: 2020-10-17 06:16:29.509603, tzinfo: None\n",
      "utc now: 2020-10-17 06:16:29.509603+00:00, tzinfo: UTC\n",
      "Paris: 2020-10-17 08:16:29.509603+02:00, tzinfo: Europe/Paris\n",
      "New York: 2020-10-17 02:16:29.509603-04:00, tzinfo: America/New_York\n"
     ]
    }
   ],
   "source": [
    "import datetime as dt\n",
    "import pytz\n",
    "\n",
    "naive_utc_now = dt.datetime.utcnow()\n",
    "print('naive utc now: {}, tzinfo: {}'.format(naive_utc_now, naive_utc_now.tzinfo))\n",
    "\n",
    "# Localizing naive datetimes\n",
    "UTC_TZ = pytz.timezone('UTC')\n",
    "utc_now = UTC_TZ.localize(naive_utc_now)\n",
    "print('utc now: {}, tzinfo: {}'.format(utc_now, utc_now.tzinfo))\n",
    "\n",
    "# Converting localized datetimes to different timezone\n",
    "PARIS_TZ = pytz.timezone('Europe/Paris')\n",
    "paris_now = PARIS_TZ.normalize(utc_now)\n",
    "print('Paris: {}, tzinfo: {}'.format(paris_now, paris_now.tzinfo))\n",
    "\n",
    "NEW_YORK_TZ = pytz.timezone('America/New_York')\n",
    "ny_now = NEW_YORK_TZ.normalize(utc_now)\n",
    "print('New York: {}, tzinfo: {}'.format(ny_now, ny_now.tzinfo))"
   ]
  },
  {
   "cell_type": "markdown",
   "metadata": {},
   "source": [
    "## [`random`](https://docs.python.org/3/library/random.html) for random number generation"
   ]
  },
  {
   "cell_type": "code",
   "execution_count": 5,
   "metadata": {},
   "outputs": [
    {
     "name": "stdout",
     "output_type": "stream",
     "text": [
      "random integer between 1-100: 46\n",
      "random float between 0-1: 0.8518576514048342\n"
     ]
    }
   ],
   "source": [
    "import random\n",
    "\n",
    "rand_int = random.randint(1, 100)\n",
    "print('random integer between 1-100: {}'.format(rand_int))\n",
    "\n",
    "rand = random.random()\n",
    "print('random float between 0-1: {}'.format(rand))"
   ]
  },
  {
   "cell_type": "markdown",
   "metadata": {},
   "source": [
    "## [`re`](https://docs.python.org/3/library/re.html#module-re) for regular expressions"
   ]
  },
  {
   "cell_type": "markdown",
   "metadata": {},
   "source": [
    "### Searching occurences"
   ]
  },
  {
   "cell_type": "code",
   "execution_count": 13,
   "metadata": {},
   "outputs": [
    {
     "name": "stdout",
     "output_type": "stream",
     "text": [
      "match: <re.Match object; span=(9, 12), match='g12'>\n",
      "match.group(): g12\n",
      "numbers: ['8', '1', '2', '5', '0', '9']\n"
     ]
    }
   ],
   "source": [
    "import re\n",
    "\n",
    "secret_code = 'qwret 8sfg12f5 fd09f_df'\n",
    "# \"r\" at the beginning means raw format, use it with regular expression patterns\n",
    "search_pattern = r'(g12)' \n",
    "\n",
    "match = re.search(search_pattern, secret_code)\n",
    "print('match: {}'.format(match))\n",
    "print('match.group(): {}'.format(match.group()))\n",
    "\n",
    "numbers_pattern = r'[0-9]'\n",
    "numbers_match = re.findall(numbers_pattern, secret_code)\n",
    "print('numbers: {}'.format(numbers_match))"
   ]
  },
  {
   "cell_type": "markdown",
   "metadata": {},
   "source": [
    "### Variable validation"
   ]
  },
  {
   "cell_type": "code",
   "execution_count": 14,
   "metadata": {},
   "outputs": [
    {
     "name": "stdout",
     "output_type": "stream",
     "text": [
      "True\n",
      "False\n",
      "False\n",
      "False\n",
      "False\n"
     ]
    }
   ],
   "source": [
    "import re\n",
    "\n",
    "def validate_only_lower_case_letters(to_validate):\n",
    "    pattern = r'^[a-z]+$'\n",
    "    return bool(re.match(pattern, to_validate))\n",
    "\n",
    "print(validate_only_lower_case_letters('thisshouldbeok'))\n",
    "print(validate_only_lower_case_letters('thisshould notbeok'))\n",
    "print(validate_only_lower_case_letters('Thisshouldnotbeok'))\n",
    "print(validate_only_lower_case_letters('thisshouldnotbeok1'))\n",
    "print(validate_only_lower_case_letters(''))"
   ]
  },
  {
   "cell_type": "markdown",
   "metadata": {},
   "source": [
    "# Idiomatic loops"
   ]
  },
  {
   "cell_type": "markdown",
   "metadata": {},
   "source": [
    "## Looping in general\n"
   ]
  },
  {
   "cell_type": "code",
   "execution_count": 22,
   "metadata": {},
   "outputs": [
    {
     "name": "stdout",
     "output_type": "stream",
     "text": [
      "John\n",
      "Doe\n",
      "was\n",
      "here\n",
      "\n",
      "John\n",
      "Doe\n",
      "was\n",
      "here\n",
      "\n",
      "John\n",
      "Doe\n",
      "was\n",
      "here\n",
      "\n",
      "0: John\n",
      "1: Doe\n",
      "2: was\n",
      "3: here\n"
     ]
    }
   ],
   "source": [
    "data = ['John', 'Doe', 'was', 'here']\n",
    "\n",
    "#Don't do it like this. While loops are actually really rarely needed.\n",
    "\n",
    "idx = 0\n",
    "while idx < len(data):\n",
    "    print(data[idx])\n",
    "    idx += 1\n",
    "\n",
    "#Don't do like this either.</font>\n",
    "print()\n",
    "for idx in range(len(data)):\n",
    "    print(data[idx])\n",
    "\n",
    "###Do it like this!\n",
    "print()\n",
    "for item in data:\n",
    "    print(item)\n",
    "\n",
    "#If you need the index as well, you can use enumerate.\n",
    "print()\n",
    "for idx, val in enumerate(data):\n",
    "    print('{}: {}'.format(idx, val))"
   ]
  },
  {
   "cell_type": "markdown",
   "metadata": {},
   "source": [
    "## Looping over a range of numbers"
   ]
  },
  {
   "cell_type": "code",
   "execution_count": 20,
   "metadata": {},
   "outputs": [
    {
     "name": "stdout",
     "output_type": "stream",
     "text": [
      "0 1 2 3 4 5 \n",
      "0 1 2 3 4 5 \n",
      "0 1 2 3 4 5 "
     ]
    }
   ],
   "source": [
    "#Don't do this\n",
    "\n",
    "i = 0\n",
    "while i < 6:\n",
    "    print(i, end=\" \")\n",
    "    i += 1\n",
    "print()\n",
    "\n",
    "#Don't do this either.\n",
    "\n",
    "for val in [0, 1, 2, 3, 4, 5]:\n",
    "    print(val, end=\" \")\n",
    "print()\n",
    "\n",
    "### Do it like this!\n",
    "\n",
    "for val in range(6):\n",
    "    print(val, end=\" \")"
   ]
  },
  {
   "cell_type": "markdown",
   "metadata": {},
   "source": [
    "## Reversed looping"
   ]
  },
  {
   "cell_type": "code",
   "execution_count": 13,
   "metadata": {},
   "outputs": [
    {
     "name": "stdout",
     "output_type": "stream",
     "text": [
      "from\n",
      "last\n",
      "to\n",
      "first\n",
      "from\n",
      "last\n",
      "to\n",
      "first\n"
     ]
    }
   ],
   "source": [
    "data = ['first', 'to', 'last', 'from'] \n",
    "\n",
    "#This is no good.\n",
    "\n",
    "i = len(data) - 1\n",
    "while i >= 0:\n",
    "    print(data[i])\n",
    "    i -= 1\n",
    "\n",
    "### <font color='green'>Do it like this!</font>\n",
    "\n",
    "for item in reversed(data):\n",
    "    print(item)"
   ]
  },
  {
   "cell_type": "markdown",
   "metadata": {},
   "source": [
    "## Looping over __n__ collections simultaneously"
   ]
  },
  {
   "cell_type": "code",
   "execution_count": 11,
   "metadata": {},
   "outputs": [
    {
     "name": "stdout",
     "output_type": "stream",
     "text": [
      "a 10 John\n",
      "b 20 Doe\n",
      "c 30 True\n",
      "a 10 John\n",
      "b 20 Doe\n",
      "c 30 True\n",
      "a 10 John\n",
      "b 20 Doe\n",
      "c 30 True\n",
      "{'a': 10, 'b': 20, 'c': 30}\n"
     ]
    }
   ],
   "source": [
    "collection1 = ['a', 'b', 'c']\n",
    "collection2 = (10, 20, 30, 40, 50)\n",
    "collection3 = ['John', 'Doe', True]\n",
    "\n",
    "#not like this.\n",
    "\n",
    "shortest = len(collection1)\n",
    "if len(collection2) < shortest:\n",
    "    shortest = len(collection2)\n",
    "if len(collection3) < shortest:\n",
    "    shortest = len(collection3)\n",
    "    \n",
    "i = 0\n",
    "while i < shortest:\n",
    "    print(collection1[i], collection2[i], collection3[i])\n",
    "    i += 1\n",
    "\n",
    "\n",
    "#This is getting better but there's even a better way!\n",
    "\n",
    "shortest = min(len(collection1), len(collection2), len(collection3))\n",
    "for i in range(shortest):\n",
    "    print(collection1[i], collection2[i], collection3[i])\n",
    "\n",
    "### Do it like this!\n",
    "\n",
    "for first, second, third in zip(collection1, collection2, collection3):\n",
    "    print(first, second, third)\n",
    "\n",
    "#You can also create a dict out of two collections!\n",
    "\n",
    "my_dict = dict(zip(collection1, collection2))\n",
    "print(my_dict)"
   ]
  },
  {
   "cell_type": "markdown",
   "metadata": {},
   "source": [
    "## `for - else` - Checking for a match in a collection\n",
    "Let's say we want to verify a certain condition is met by at least one element in a collection. Let's consider the following relatively naive example where we want to verify that at least one item is \"python\" (case insensitive) in `data`. If not, we'll raise a ValueError."
   ]
  },
  {
   "cell_type": "code",
   "execution_count": 10,
   "metadata": {},
   "outputs": [],
   "source": [
    "data = [1, 2, 3, 'This', 'is', 'just', 'a', 'random', 'Python', 'list']\n",
    "\n",
    "#Don't do it like this\n",
    "\n",
    "found = False\n",
    "for val in data:\n",
    "    if str(val).lower() == 'python':\n",
    "        found = True\n",
    "        break\n",
    "if not found:\n",
    "    raise ValueError(\"Nope, couldn't find.\")\n",
    "    \n",
    "### Do it like this!\n",
    "\n",
    "for val in data:\n",
    "    if str(val).lower() == 'python':\n",
    "        break\n",
    "else:\n",
    "    raise ValueError(\"Nope, couldn't find.\")"
   ]
  },
  {
   "cell_type": "markdown",
   "metadata": {},
   "source": [
    "# Idiomatic dictionaries"
   ]
  },
  {
   "cell_type": "code",
   "execution_count": 6,
   "metadata": {},
   "outputs": [
    {
     "name": "stdout",
     "output_type": "stream",
     "text": [
      "some default value\n",
      "some default value\n",
      "some default value\n",
      "True\n",
      "some default value\n",
      "{'a': 1, 'b': 2, 'c': 3, 'g': 'some default value'}\n",
      "some default value\n",
      "{'a': 1, 'b': 2, 'c': 3, 'g': 'some default value'}\n"
     ]
    }
   ],
   "source": [
    "my_dict = {'a': 1, 'b': 2, 'c': 3}\n",
    "\n",
    "#Don't do it like this\n",
    "\n",
    "if 'g' in my_dict:\n",
    "    value = my_dict['g']\n",
    "else:\n",
    "    value = 'some default value'\n",
    "print(value)\n",
    "\n",
    "#Or like this \n",
    "\n",
    "try:\n",
    "    value = my_dict['g']\n",
    "except KeyError:\n",
    "    value = 'some default value'\n",
    "print(value)\n",
    "\n",
    "###  Do it like this! \n",
    "\n",
    "value = my_dict.get('g', 'some default value')\n",
    "print(value)\n",
    "\n",
    "#Note that if you don't provide the default value for `get`,\n",
    "#the return value will be `None` if the key is not present in \n",
    "#the dictionary\n",
    "\n",
    "value = my_dict.get('g')\n",
    "print(value is None)\n",
    "\n",
    "## `setdefault` - same as `get` but also sets the value if not present\n",
    "\n",
    "#Don't do it like this.#\n",
    "\n",
    "my_dict = {'a': 1, 'b': 2, 'c': 3}\n",
    "\n",
    "key = 'g'\n",
    "if key in my_dict:\n",
    "    value = my_dict[key]\n",
    "else:\n",
    "    value = 'some default value'\n",
    "    my_dict[key] = value\n",
    "    \n",
    "print(value)\n",
    "print(my_dict)\n",
    "\n",
    "\n",
    "###Let's do it like this!\n",
    "\n",
    "my_dict = {'a': 1, 'b': 2, 'c': 3}\n",
    "\n",
    "key = 'g'\n",
    "value = my_dict.setdefault(key, 'some default value')\n",
    "\n",
    "print(value)\n",
    "print(my_dict)"
   ]
  },
  {
   "cell_type": "markdown",
   "metadata": {},
   "source": [
    "## Comprehensions"
   ]
  },
  {
   "cell_type": "code",
   "execution_count": null,
   "metadata": {},
   "outputs": [],
   "source": [
    "numbers = (1, 5, 10)\n",
    "\n",
    "#Don't do it like this \n",
    "\n",
    "squares = {}\n",
    "for num in numbers:\n",
    "    squares[num] = num**2\n",
    "print(squares)\n",
    "\n",
    "###Do it like this!\n",
    "\n",
    "squares = {num: num**2 for num in numbers}\n",
    "print(squares)\n",
    "\n",
    "### Another example\n",
    "\n",
    "keys = ('a', 'b', 'c')\n",
    "values = [True, 100, 'John Doe']\n",
    "\n",
    "#Don't do it like this \n",
    "\n",
    "my_dict = {}\n",
    "for idx, key in enumerate(keys):\n",
    "    my_dict[key] = values[idx]\n",
    "print(my_dict)\n",
    "\n",
    "###  Do it like this!\n",
    "\n",
    "my_dict = {k: v for k, v in zip(keys, values)}\n",
    "print(my_dict)\n",
    "\n",
    "# Or even like this:\n",
    "my_dict2 = dict(zip(keys, values))\n",
    "\n",
    "assert my_dict2 == my_dict"
   ]
  },
  {
   "cell_type": "code",
   "execution_count": 3,
   "metadata": {},
   "outputs": [
    {
     "name": "stdout",
     "output_type": "stream",
     "text": [
      "[1.0, 1.4142135623730951, 1.7320508075688772, 2.0]\n",
      "{1.0, 2.0, 1.7320508075688772, 1.4142135623730951}\n",
      "{1: 1.0, 2: 1.4142135623730951, 3: 1.7320508075688772, 4: 2.0}\n",
      "{1: 1.0, 4: 2.0}\n"
     ]
    }
   ],
   "source": [
    "original_data = (1, 2, 3, 4)\n",
    "\n",
    "square_roots_list = [val**(1/2) for val in original_data]\n",
    "print(square_roots_list)\n",
    "\n",
    "square_roots_set = {val**(1/2) for val in original_data}\n",
    "print(square_roots_set)\n",
    "\n",
    "square_roots_dict = {val: val**(1/2) for val in original_data}\n",
    "print(square_roots_dict)\n",
    "\n",
    "integer_square_roots_dict = {\n",
    "    val: val**(1/2)\n",
    "    for val in original_data if (val**(1/2)).is_integer()\n",
    "}\n",
    "print(integer_square_roots_dict)"
   ]
  },
  {
   "cell_type": "markdown",
   "metadata": {},
   "source": [
    "## Looping"
   ]
  },
  {
   "cell_type": "code",
   "execution_count": 8,
   "metadata": {},
   "outputs": [
    {
     "name": "stdout",
     "output_type": "stream",
     "text": [
      "key: age             value: 83\n",
      "key: is gangster     value: True\n",
      "key: name            value: John Doe\n",
      "key: age             value: 83\n",
      "key: is gangster     value: True\n",
      "key: name            value: John Doe\n"
     ]
    }
   ],
   "source": [
    "my_dict = {'age': 83, 'is gangster': True, 'name': 'John Doe'}\n",
    "\n",
    "#Don't do it like this \n",
    "\n",
    "for key in my_dict:\n",
    "    val = my_dict[key]\n",
    "    print('key: {:15s} value: {}'.format(key, val))\n",
    "\n",
    "### Do it like this! \n",
    "\n",
    "for key, val in my_dict.items():\n",
    "    print('key: {:15s} value: {}'.format(key, val))\n",
    "    \n",
    "    \n",
    "    "
   ]
  },
  {
   "cell_type": "code",
   "execution_count": null,
   "metadata": {},
   "outputs": [],
   "source": [
    "#Looping in general\n",
    "\n",
    "data = ['John', 'Doe', 'was', 'here']\n",
    "\n",
    "#Don't do it like this \n",
    "\n",
    "for idx in range(len(data)):\n",
    "    print(data[idx])\n",
    "\n",
    "# Do it like this! \n",
    "\n",
    "for item in data:\n",
    "    print(item)\n",
    "\n",
    "#If you need the index as well, you can use enumerate.\n",
    "\n",
    "for idx, val in enumerate(data):\n",
    "    print('{}: {}'.format(idx, val))\n",
    "    \n",
    "\n",
    "#Looping over a range of numbers\n",
    "\n",
    "for val in range(6):\n",
    "    print(val)\n",
    "    \n",
    "\n",
    "#Reversed looping\n",
    "for item in reversed(data):\n",
    "    print(item)  "
   ]
  },
  {
   "cell_type": "markdown",
   "metadata": {},
   "source": [
    "## Looping over __n__ collections simultaneously\n"
   ]
  },
  {
   "cell_type": "code",
   "execution_count": 1,
   "metadata": {},
   "outputs": [],
   "source": [
    "collection1 = ['a', 'b', 'c']\n",
    "collection2 = (10, 20, 30, 40, 50)\n",
    "collection3 = ['John', 'Doe', True]\n",
    "\n",
    "\n",
    "for first, second, third in zip(collection1, collection2, collection3):\n",
    "    print(first, second, third)\n",
    "    \n",
    "\n",
    "#You can also create a dict out of two collections!\n",
    "my_dict = dict(zip(collection1, collection2))\n",
    "print(my_dict)"
   ]
  },
  {
   "cell_type": "markdown",
   "metadata": {},
   "source": [
    "## `for - else` - Checking for a match in a collection"
   ]
  },
  {
   "cell_type": "code",
   "execution_count": 2,
   "metadata": {},
   "outputs": [],
   "source": [
    "data = [1, 2, 3, 'This', 'is', 'just', 'a', 'random', 'Python', 'list']\n",
    "\n",
    "for val in data:\n",
    "    if str(val).lower() == 'python':\n",
    "        break\n",
    "else:\n",
    "    raise ValueError(\"Nope, couldn't find.\")"
   ]
  },
  {
   "cell_type": "markdown",
   "metadata": {},
   "source": [
    "## Using `in` for checking presence of an element in a collection"
   ]
  },
  {
   "cell_type": "code",
   "execution_count": 6,
   "metadata": {},
   "outputs": [
    {
     "name": "stdout",
     "output_type": "stream",
     "text": [
      "This seems to be our guy\n"
     ]
    }
   ],
   "source": [
    "name = 'John Doe'\n",
    "if name in ('John', 'Doe', 'John Doe'):\n",
    "    print('This seems to be our guy')"
   ]
  },
  {
   "cell_type": "markdown",
   "metadata": {},
   "source": [
    "# Misc\n"
   ]
  },
  {
   "cell_type": "code",
   "execution_count": null,
   "metadata": {},
   "outputs": [],
   "source": [
    "## Chained comparisons\n",
    "#Don't do it like this.\n",
    "\n",
    "if b > a and c > b and d > c:\n",
    "    print('from lowest to highest: a, b, c, d')\n",
    "    \n",
    "#do it like this.\n",
    "\n",
    "if a < b < c < d:\n",
    "print('from lowest to highest: a, b, c, d')"
   ]
  },
  {
   "cell_type": "code",
   "execution_count": 25,
   "metadata": {},
   "outputs": [
    {
     "data": {
      "text/plain": [
       "{1: 0, 2: 0, 3: 0}"
      ]
     },
     "execution_count": 25,
     "metadata": {},
     "output_type": "execute_result"
    }
   ],
   "source": [
    "nums=[1,2,3,3,3,2]\n",
    "d = {x:0 for x in nums}\n",
    "d"
   ]
  },
  {
   "cell_type": "code",
   "execution_count": null,
   "metadata": {},
   "outputs": [],
   "source": []
  },
  {
   "cell_type": "code",
   "execution_count": 28,
   "metadata": {},
   "outputs": [
    {
     "data": {
      "text/plain": [
       "[1, 3, 3]"
      ]
     },
     "execution_count": 28,
     "metadata": {},
     "output_type": "execute_result"
    }
   ],
   "source": [
    "nums[0:len(nums):2]"
   ]
  },
  {
   "cell_type": "code",
   "execution_count": 29,
   "metadata": {},
   "outputs": [
    {
     "data": {
      "text/plain": [
       "[1, 3, 3]"
      ]
     },
     "execution_count": 29,
     "metadata": {},
     "output_type": "execute_result"
    }
   ],
   "source": [
    "nums[0:-1:2]"
   ]
  },
  {
   "cell_type": "code",
   "execution_count": 30,
   "metadata": {},
   "outputs": [
    {
     "data": {
      "text/plain": [
       "[1, 3, 3]"
      ]
     },
     "execution_count": 30,
     "metadata": {},
     "output_type": "execute_result"
    }
   ],
   "source": [
    "nums[0::2]"
   ]
  },
  {
   "cell_type": "code",
   "execution_count": 26,
   "metadata": {},
   "outputs": [
    {
     "data": {
      "text/plain": [
       "[1, 3, 5, 7, 9]"
      ]
     },
     "execution_count": 26,
     "metadata": {},
     "output_type": "execute_result"
    }
   ],
   "source": [
    " list(range(1, 10, 2)) "
   ]
  },
  {
   "cell_type": "code",
   "execution_count": 33,
   "metadata": {},
   "outputs": [
    {
     "data": {
      "text/plain": [
       "[1, 2, 3, 3, 3, 2]"
      ]
     },
     "execution_count": 33,
     "metadata": {},
     "output_type": "execute_result"
    }
   ],
   "source": [
    "# shift\n",
    "k=3\n",
    "k %= len(nums)\n",
    "if  k >0:\n",
    "\n",
    "    a = [0]*k+nums\n",
    "    a[:k] = a[-k:]\n",
    "    del a[-k:]\n",
    "    nums[:] = a\n",
    "    \n",
    "nums"
   ]
  },
  {
   "cell_type": "code",
   "execution_count": null,
   "metadata": {},
   "outputs": [],
   "source": [
    "from collections import Counter\n",
    "\n",
    "counter = Counter(s)\n",
    "for key, value in counter.items():\n",
    "    if value ==1:\n",
    "      return key\n",
    "return 0"
   ]
  },
  {
   "cell_type": "markdown",
   "metadata": {},
   "source": [
    "## Falsy/truthy values"
   ]
  },
  {
   "cell_type": "code",
   "execution_count": null,
   "metadata": {},
   "outputs": [],
   "source": [
    "# These are falsy\n",
    "my_list = []\n",
    "my_dict = {}\n",
    "my_set = set()\n",
    "my_tuple = tuple()\n",
    "zero = 0\n",
    "false = False\n",
    "none = None\n",
    "my_str = ''\n",
    "\n",
    "# Basically the rest are truthy\n",
    "# for example:\n",
    "my_second_list = ['foo']"
   ]
  },
  {
   "cell_type": "markdown",
   "metadata": {},
   "source": [
    "<font color='red'>Don't do it like this.</font>"
   ]
  },
  {
   "cell_type": "code",
   "execution_count": null,
   "metadata": {},
   "outputs": [],
   "source": [
    "if len(my_list) == 0:\n",
    "    print('Empty list is so empty')\n",
    "    \n",
    "if not len(my_dict):\n",
    "    print('Empty dict is also very empty')\n",
    "    \n",
    "if not len(my_set) and not len(my_tuple):\n",
    "    print('Same goes for sets and tuples')\n",
    "    \n",
    "if not bool(zero) and not bool(false) and not bool(none) and len(my_str) == 0:\n",
    "    print('These are also falsy')\n",
    "    \n",
    "if len(my_second_list) > 0:\n",
    "    print('This should be true')"
   ]
  },
  {
   "cell_type": "markdown",
   "metadata": {},
   "source": [
    "### <font color='green'>This is much better!</font>"
   ]
  },
  {
   "cell_type": "code",
   "execution_count": null,
   "metadata": {},
   "outputs": [],
   "source": [
    "if not my_list:\n",
    "    print('Empty list is so empty')\n",
    "    \n",
    "if not my_dict:\n",
    "    print('Empty dict is also very empty')\n",
    "    \n",
    "if not my_set and not my_tuple:\n",
    "    print('Same goes for sets and tuples')\n",
    "    \n",
    "if not zero and not false and not none and not my_str:\n",
    "    print('These are also falsy')\n",
    "    \n",
    "if my_second_list:\n",
    "    print('This should be true')"
   ]
  },
  {
   "cell_type": "markdown",
   "metadata": {},
   "source": [
    "## `any` & `all`"
   ]
  },
  {
   "cell_type": "code",
   "execution_count": 7,
   "metadata": {},
   "outputs": [
    {
     "name": "stdout",
     "output_type": "stream",
     "text": [
      "any truthy: True, all truthy: False\n"
     ]
    }
   ],
   "source": [
    "example_collection = ['a', True, 'Python is cool', 123, 0]\n",
    "\n",
    "\n",
    "#do it like this.\n",
    "any_value_truthy = any(example_collection)\n",
    "all_values_truthy = all(example_collection)\n",
    "print('any truthy: {}, all truthy: {}'.format(any_value_truthy, all_values_truthy))"
   ]
  },
  {
   "cell_type": "markdown",
   "metadata": {},
   "source": [
    "## Ternary operator"
   ]
  },
  {
   "cell_type": "code",
   "execution_count": 12,
   "metadata": {},
   "outputs": [
    {
     "name": "stdout",
     "output_type": "stream",
     "text": [
      "John\n"
     ]
    }
   ],
   "source": [
    "some_condition = True \n",
    "variable = 'John' if some_condition else 'Doe'\n",
    "print(variable)"
   ]
  },
  {
   "cell_type": "markdown",
   "metadata": {},
   "source": [
    "## <font color='green'>Extra: keyword only arguments after `*`</font>\n",
    "This might be useful for example if the signature of the function is likely to change in the future. For example, if there's even a slight chance that one of the arguments may be dropped during the future development, consider using `*`."
   ]
  },
  {
   "cell_type": "code",
   "execution_count": null,
   "metadata": {},
   "outputs": [],
   "source": [
    "def func_with_loads_of_args(arg1, *, arg2=None, arg3=None, arg4=None, arg5='boom'):\n",
    "    pass\n",
    "\n",
    "# This won't work because only keyword arguments allowed after *\n",
    "#func_with_loads_of_args('John Doe', 1, 2)\n",
    "\n",
    "# This is ok\n",
    "func_with_loads_of_args('John Doe', arg4='foo', arg5='bar', arg2='foo bar')"
   ]
  },
  {
   "cell_type": "markdown",
   "metadata": {},
   "source": [
    "## Multiple assigment\n",
    "Let's say we want to swap the values of two variables."
   ]
  },
  {
   "cell_type": "code",
   "execution_count": null,
   "metadata": {},
   "outputs": [],
   "source": [
    "#Don't do it like this\n",
    "a = 1\n",
    "b = 2\n",
    "\n",
    "\n",
    "# swap\n",
    "tmp = a\n",
    "a = b\n",
    "b = tmp\n",
    "print(a, b)\n",
    "\n",
    "#Do it like this\n",
    "a = 1\n",
    "b = 2\n",
    "\n",
    "# swap\n",
    "a, b = b, a\n",
    "print(a, b)"
   ]
  },
  {
   "cell_type": "markdown",
   "metadata": {},
   "source": [
    "## (Un)packing"
   ]
  },
  {
   "cell_type": "code",
   "execution_count": 1,
   "metadata": {},
   "outputs": [],
   "source": [
    "my_list = [1, 2, 3, 4, 5, 6]"
   ]
  },
  {
   "cell_type": "markdown",
   "metadata": {},
   "source": [
    "<font color='red'>Don't do something like this.</font>"
   ]
  },
  {
   "cell_type": "code",
   "execution_count": 2,
   "metadata": {},
   "outputs": [
    {
     "name": "stdout",
     "output_type": "stream",
     "text": [
      "1 [2, 3, 4, 5] 6\n"
     ]
    }
   ],
   "source": [
    "first = my_list[0]\n",
    "last = my_list[-1]\n",
    "middle = my_list[1:-1]\n",
    "print(first, middle, last)\n",
    "\n",
    "packed = [first] + middle + [last]\n",
    "assert packed == my_list"
   ]
  },
  {
   "cell_type": "markdown",
   "metadata": {},
   "source": [
    "### <font color='green'>This is the Pythonic way!</font>"
   ]
  },
  {
   "cell_type": "code",
   "execution_count": 3,
   "metadata": {},
   "outputs": [
    {
     "name": "stdout",
     "output_type": "stream",
     "text": [
      "1 [2, 3, 4, 5] 6\n"
     ]
    }
   ],
   "source": [
    "# unpacking\n",
    "first, *middle, last = my_list\n",
    "print(first, middle, last)\n",
    "\n",
    "# packing\n",
    "packed = [first, *middle, last]\n",
    "assert packed == my_list"
   ]
  },
  {
   "cell_type": "markdown",
   "metadata": {},
   "source": [
    "# Idiomatic Python - miscellaneous part 2"
   ]
  },
  {
   "cell_type": "markdown",
   "metadata": {},
   "source": [
    "## String concatenation"
   ]
  },
  {
   "cell_type": "code",
   "execution_count": null,
   "metadata": {},
   "outputs": [],
   "source": [
    "names = ('John', 'Lisa', 'Terminator', 'Python')"
   ]
  },
  {
   "cell_type": "markdown",
   "metadata": {},
   "source": [
    "<font color='red'>Don't do this.</font>"
   ]
  },
  {
   "cell_type": "code",
   "execution_count": null,
   "metadata": {},
   "outputs": [],
   "source": [
    "semicolon_separated = names[0]\n",
    "for name in names[1:]:\n",
    "    semicolon_separated += ';' + name\n",
    "print(semicolon_separated)"
   ]
  },
  {
   "cell_type": "markdown",
   "metadata": {},
   "source": [
    "### <font color='green'>Use `join` instead!</font>"
   ]
  },
  {
   "cell_type": "code",
   "execution_count": null,
   "metadata": {},
   "outputs": [],
   "source": [
    "semicolon_separated = ';'.join(names)\n",
    "print(semicolon_separated)"
   ]
  },
  {
   "cell_type": "markdown",
   "metadata": {},
   "source": [
    "## `or` in assignments\n",
    "The return value of `a or b`:\n",
    "* `a` if `a` is truthy\n",
    "* `b` otherwise\n",
    "\n",
    "You can take advantage of this e.g. while writing variable assignments."
   ]
  },
  {
   "cell_type": "code",
   "execution_count": null,
   "metadata": {},
   "outputs": [],
   "source": [
    "a = 0\n",
    "b = None\n",
    "c = 'John Doe'"
   ]
  },
  {
   "cell_type": "markdown",
   "metadata": {},
   "source": [
    "<font color='red'>Instead of doing something like this:</font>"
   ]
  },
  {
   "cell_type": "code",
   "execution_count": null,
   "metadata": {},
   "outputs": [],
   "source": [
    "my_variable = 'default value'\n",
    "if a:\n",
    "    my_variable = a\n",
    "elif b:\n",
    "    my_variable = b\n",
    "elif c:\n",
    "    my_variable = c\n",
    "print(my_variable)"
   ]
  },
  {
   "cell_type": "markdown",
   "metadata": {},
   "source": [
    "### <font color='green'>Prefer doing this:</font>"
   ]
  },
  {
   "cell_type": "code",
   "execution_count": null,
   "metadata": {},
   "outputs": [],
   "source": [
    "my_variable = a or b or c or 'default value'\n",
    "print(my_variable)"
   ]
  },
  {
   "cell_type": "markdown",
   "metadata": {},
   "source": [
    "## `try` - `finally`\n",
    "For scenarios where you want to do something always, even when there are exceptions."
   ]
  },
  {
   "cell_type": "code",
   "execution_count": null,
   "metadata": {},
   "outputs": [],
   "source": [
    "def magical_calculation():\n",
    "    try:\n",
    "        # here would be the logic of your master piece\n",
    "        result = 1 / 0\n",
    "    except ZeroDivisionError:\n",
    "        return 0\n",
    "    except Exception:\n",
    "        return None\n",
    "    finally:\n",
    "        print('This could be something important that should be done every time')\n",
    "    return result\n",
    "\n",
    "print('return value: {}'.format(magical_calculation()))"
   ]
  },
  {
   "cell_type": "markdown",
   "metadata": {},
   "source": [
    "**Note**: You can also have `try`-`except`-`else`-`finally` structure. In cases where exception is not raised inside `try`, `else` will be executed before `finally`. If there is an expection, `else` block is not executed."
   ]
  },
  {
   "cell_type": "markdown",
   "metadata": {},
   "source": [
    "# Use context managers when possible\n",
    "One use case example is file I/O."
   ]
  },
  {
   "cell_type": "markdown",
   "metadata": {},
   "source": [
    "<font color='red'>Don't play with files like this.</font>"
   ]
  },
  {
   "cell_type": "code",
   "execution_count": null,
   "metadata": {},
   "outputs": [],
   "source": [
    "try:\n",
    "    some_file = open('tmp.txt', 'w')\n",
    "    print('the file is now open: {}'.format(not some_file.closed))\n",
    "    \n",
    "    # here would be some logic\n",
    " \n",
    "finally:\n",
    "    some_file.close()\n",
    "    print(\"now it's closed: {}\".format(some_file.closed))"
   ]
  },
  {
   "cell_type": "markdown",
   "metadata": {},
   "source": [
    "### <font color='green'>Use context manager instead!</font>"
   ]
  },
  {
   "cell_type": "code",
   "execution_count": null,
   "metadata": {},
   "outputs": [],
   "source": [
    "with open('tmp.txt', 'w') as some_file:\n",
    "    print('the file is now open: {}'.format(not some_file.closed))\n",
    "    \n",
    "    # here would be some logic\n",
    "\n",
    "print(\"now it's closed: {}\".format(some_file.closed))"
   ]
  },
  {
   "cell_type": "markdown",
   "metadata": {},
   "source": [
    "### <font color='green'>It's also easy to implement one yourself.</font>"
   ]
  },
  {
   "cell_type": "code",
   "execution_count": null,
   "metadata": {},
   "outputs": [],
   "source": [
    "from contextlib import contextmanager\n",
    "\n",
    "@contextmanager\n",
    "def my_context():\n",
    "    print('Entering to my context')\n",
    "    yield\n",
    "    print('Exiting my context')\n",
    "    \n",
    "def do_stuff():\n",
    "    with my_context():\n",
    "        print('Doing stuff')\n",
    "        \n",
    "    print('Doing some stuff outside my context')\n",
    "        \n",
    "do_stuff()  "
   ]
  },
  {
   "cell_type": "markdown",
   "metadata": {},
   "source": [
    "## `min()` & `max()`"
   ]
  },
  {
   "cell_type": "code",
   "execution_count": null,
   "metadata": {},
   "outputs": [],
   "source": [
    "secret_data = (1, 2, 5, 99, 8, -9)"
   ]
  },
  {
   "cell_type": "markdown",
   "metadata": {},
   "source": [
    "<font color='red'>No need to bake it yourself.</font>"
   ]
  },
  {
   "cell_type": "code",
   "execution_count": null,
   "metadata": {},
   "outputs": [],
   "source": [
    "max_value = 0\n",
    "for val in secret_data:\n",
    "    if val > max_value:\n",
    "        max_value = val\n",
    "print(max_value)"
   ]
  },
  {
   "cell_type": "markdown",
   "metadata": {},
   "source": [
    "### <font color='green'>Use builtin functionality instead!</font>"
   ]
  },
  {
   "cell_type": "code",
   "execution_count": null,
   "metadata": {},
   "outputs": [],
   "source": [
    "max_value = max(secret_data)\n",
    "print(max_value)"
   ]
  },
  {
   "cell_type": "markdown",
   "metadata": {},
   "source": [
    "## `contextlib.suppress` - ignoring exceptions "
   ]
  },
  {
   "cell_type": "markdown",
   "metadata": {},
   "source": [
    "<font color='red'>If there's a potential exception that is ok, don't handle it like this.</font>"
   ]
  },
  {
   "cell_type": "code",
   "execution_count": 1,
   "metadata": {},
   "outputs": [
    {
     "name": "stdout",
     "output_type": "stream",
     "text": [
      "0\n"
     ]
    }
   ],
   "source": [
    "value = 0\n",
    "try:\n",
    "    value = 1 / 0  # just for demonstrating purposes \n",
    "except ZeroDivisionError:\n",
    "    pass\n",
    "\n",
    "print(value)"
   ]
  },
  {
   "cell_type": "markdown",
   "metadata": {},
   "source": [
    "### <font color='green'>Do it like this instead!</font>"
   ]
  },
  {
   "cell_type": "code",
   "execution_count": 2,
   "metadata": {},
   "outputs": [
    {
     "name": "stdout",
     "output_type": "stream",
     "text": [
      "0\n"
     ]
    }
   ],
   "source": [
    "from contextlib import suppress\n",
    "\n",
    "value = 0\n",
    "with suppress(ZeroDivisionError):\n",
    "    value = 1 / 0  # just for demonstrating purposes\n",
    "    \n",
    "print(value)"
   ]
  },
  {
   "cell_type": "markdown",
   "metadata": {},
   "source": [
    "## Properties instead of getter/setter methods"
   ]
  },
  {
   "cell_type": "markdown",
   "metadata": {},
   "source": [
    "<font color='red'>Instead of doing something like this.</font>"
   ]
  },
  {
   "cell_type": "code",
   "execution_count": null,
   "metadata": {},
   "outputs": [],
   "source": [
    "class Person:\n",
    "    def __init__(self, first_name, last_name):\n",
    "        self.first_name = first_name\n",
    "        self.last_name = last_name\n",
    "        \n",
    "    def get_full_name(self):\n",
    "        return '{} {}'.format(self.first_name, self.last_name)\n",
    "    \n",
    "    def set_full_name(self, full_name):\n",
    "        parts = full_name.split()\n",
    "        if len(parts) != 2:\n",
    "            raise ValueError('Sorry, too difficult name')\n",
    "            \n",
    "        self.first_name, self.last_name = parts \n",
    "        \n",
    "      \n",
    "p = Person('John', 'Doe')\n",
    "print(p.get_full_name())\n",
    "p.set_full_name('Lisa Doe')\n",
    "print(p.get_full_name())"
   ]
  },
  {
   "cell_type": "markdown",
   "metadata": {},
   "source": [
    "### <font color='green'>Prefer properties!</font>"
   ]
  },
  {
   "cell_type": "code",
   "execution_count": 4,
   "metadata": {},
   "outputs": [
    {
     "name": "stdout",
     "output_type": "stream",
     "text": [
      "John Doe\n",
      "['Lisa', 'Doe']\n",
      "Lisa Doe\n"
     ]
    }
   ],
   "source": [
    "class Person:\n",
    "    def __init__(self, first_name, last_name):\n",
    "        self.first_name = first_name\n",
    "        self.last_name = last_name\n",
    "        \n",
    "    @property\n",
    "    def full_name(self):\n",
    "        return '{} {}'.format(self.first_name, self.last_name)\n",
    "    \n",
    "    @full_name.setter\n",
    "    def full_name(self, name):\n",
    "        parts = name.split()\n",
    "        print(parts)\n",
    "        if len(parts) != 2:\n",
    "            raise ValueError('Sorry, too difficult name')\n",
    "            \n",
    "        self.first_name, self.last_name = parts\n",
    "\n",
    "    \n",
    "p = Person('John', 'Doe')\n",
    "print(p.full_name)\n",
    "p.full_name = 'Lisa Doe'\n",
    "print(p.full_name)"
   ]
  },
  {
   "cell_type": "markdown",
   "metadata": {},
   "source": [
    "## [`collections`](https://docs.python.org/3/library/collections.html#module-collections)"
   ]
  },
  {
   "cell_type": "markdown",
   "metadata": {},
   "source": [
    "### [`namedtuple`](https://docs.python.org/3/library/collections.html#collections.namedtuple)\n",
    "A great helper for creating more readable and self documenting code.\n",
    "\n",
    "`namedtuple` is a function that returns a tuple whose fields have names and also the tuple itself has a name (just like classes and their instance variables). Potential use cases include storing data which should be immutable. If you can use Python 3.7 or newer, you may want to take a look at [`dataclasses`](https://docs.python.org/3/library/dataclasses.html#module-dataclasses) as well. "
   ]
  },
  {
   "cell_type": "code",
   "execution_count": 14,
   "metadata": {},
   "outputs": [
    {
     "name": "stdout",
     "output_type": "stream",
     "text": [
      "Person(name='John Doe', age=83, is_gangster=True) Person(name='Lis Doe', age=77, is_gangster=False)\n",
      "Is John a gangster: True\n"
     ]
    }
   ],
   "source": [
    "from collections import namedtuple\n",
    "\n",
    "Person = namedtuple('Person', ['name', 'age', 'is_gangster'])\n",
    "\n",
    "# instance creation is similar to classes\n",
    "john = Person('John Doe', 83, True)\n",
    "lisa = Person('Lis Doe', age=77, is_gangster=False)\n",
    "\n",
    "print(john, lisa)\n",
    "print('Is John a gangster: {}'.format(john.is_gangster))\n",
    "\n",
    "# tuples are immutable, thus you can't do this\n",
    "#john.is_gangster = False"
   ]
  },
  {
   "cell_type": "markdown",
   "metadata": {},
   "source": [
    "### [`Counter`](https://docs.python.org/3/library/collections.html#collections.Counter)\n",
    "For counting the occurences of elements in a collection."
   ]
  },
  {
   "cell_type": "code",
   "execution_count": 3,
   "metadata": {},
   "outputs": [
    {
     "name": "stdout",
     "output_type": "stream",
     "text": [
      "type: <class 'collections.Counter'>, counter: Counter({2: 3, 1: 2, 3: 1, 4: 1, 5: 1, 6: 1})\n",
      "count of twos: 3\n",
      "count of tens: 0\n",
      "counter is a dict: True\n"
     ]
    }
   ],
   "source": [
    "from collections import Counter\n",
    "\n",
    "data = [1, 2, 3, 1, 2, 4, 5, 6, 2]\n",
    "\n",
    "counter = Counter(data)\n",
    "\n",
    "\n",
    "\n",
    "print('type: {}, counter: {}'.format(type(counter), counter))\n",
    "\n",
    "print('count of twos: {}'.format(counter[2]))\n",
    "print('count of tens: {}'.format(counter[10])) # zero for non existing\n",
    "\n",
    "print('counter is a dict: {}'.format(isinstance(counter, dict)))"
   ]
  },
  {
   "cell_type": "markdown",
   "metadata": {},
   "source": [
    "### [`defaultdict`](https://docs.python.org/3/library/collections.html#collections.defaultdict)\n",
    "For cleaner code for populating dictionaries.\n",
    "\n",
    "Let's first see how you could use a normal `dict`."
   ]
  },
  {
   "cell_type": "code",
   "execution_count": 17,
   "metadata": {},
   "outputs": [
    {
     "name": "stdout",
     "output_type": "stream",
     "text": [
      "{'odd': [1, 3, 3, 5, 7], 'even': [2, 4, 2, 6]}\n"
     ]
    }
   ],
   "source": [
    "data = (1, 2, 3, 4, 3, 2, 5, 6, 7)\n",
    "\n",
    "my_dict = {}\n",
    "for val in data:\n",
    "    if val % 2:\n",
    "        if not 'odd' in my_dict:\n",
    "            my_dict['odd'] = []\n",
    "        my_dict['odd'].append(val)\n",
    "    else:\n",
    "        if not 'even' in my_dict:\n",
    "            my_dict['even'] = []\n",
    "        my_dict['even'].append(val)\n",
    "        \n",
    "print(my_dict)"
   ]
  },
  {
   "cell_type": "markdown",
   "metadata": {},
   "source": [
    "With `defaultdict`:"
   ]
  },
  {
   "cell_type": "code",
   "execution_count": 18,
   "metadata": {},
   "outputs": [
    {
     "name": "stdout",
     "output_type": "stream",
     "text": [
      "defaultdict(<class 'list'>, {'odd': [1, 3, 3, 5, 7], 'even': [2, 4, 2, 6]})\n"
     ]
    }
   ],
   "source": [
    "from collections import defaultdict\n",
    "\n",
    "my_dict = defaultdict(list)\n",
    "for val in data:\n",
    "    if val % 2:\n",
    "        my_dict['odd'].append(val)\n",
    "    else:\n",
    "        my_dict['even'].append(val)\n",
    "print(my_dict)"
   ]
  },
  {
   "cell_type": "markdown",
   "metadata": {},
   "source": [
    "In the above example, `defaultdict` makes sure that a fresh `list` is automatically initialized as a value when a new key is added.\n",
    "\n",
    "Here's another example with `int` as a default."
   ]
  },
  {
   "cell_type": "code",
   "execution_count": 19,
   "metadata": {},
   "outputs": [
    {
     "name": "stdout",
     "output_type": "stream",
     "text": [
      "defaultdict(<class 'int'>, {'odd_count': 5, 'even_count': 4})\n"
     ]
    }
   ],
   "source": [
    "my_dict = defaultdict(int)\n",
    "for val in data:\n",
    "    if val % 2:\n",
    "        my_dict['odd_count'] += 1\n",
    "    else:\n",
    "        my_dict['even_count'] += 1\n",
    "print(my_dict)"
   ]
  },
  {
   "cell_type": "code",
   "execution_count": null,
   "metadata": {},
   "outputs": [],
   "source": []
  },
  {
   "cell_type": "code",
   "execution_count": null,
   "metadata": {},
   "outputs": [],
   "source": []
  },
  {
   "cell_type": "markdown",
   "metadata": {},
   "source": []
  },
  {
   "cell_type": "markdown",
   "metadata": {},
   "source": [
    "# Goodies of the [Python Standard Library](https://docs.python.org/3/library/#the-python-standard-library)"
   ]
  },
  {
   "cell_type": "markdown",
   "metadata": {},
   "source": [
    "## [`json`](https://docs.python.org/3/library/json.html#module-json) for encoding and decoding JSON\n",
    "Because the web is filled with JSON nowadays and the good days of xml are gone."
   ]
  },
  {
   "cell_type": "code",
   "execution_count": 1,
   "metadata": {},
   "outputs": [],
   "source": [
    "data = {'b': True, 'a': 1, 'nested': {'foo': 'bar'}, 'c': None, 'some_list': [1, 2, 3]}"
   ]
  },
  {
   "cell_type": "markdown",
   "metadata": {},
   "source": [
    "### Encoding"
   ]
  },
  {
   "cell_type": "code",
   "execution_count": 2,
   "metadata": {},
   "outputs": [
    {
     "name": "stdout",
     "output_type": "stream",
     "text": [
      "type: <class 'str'> data: {\"b\": true, \"a\": 1, \"nested\": {\"foo\": \"bar\"}, \"c\": null, \"some_list\": [1, 2, 3]}\n"
     ]
    }
   ],
   "source": [
    "import json\n",
    "json_data = json.dumps(data)\n",
    "print('type: {} data: {}'.format(type(json_data), json_data))"
   ]
  },
  {
   "cell_type": "markdown",
   "metadata": {},
   "source": [
    "### Decoding"
   ]
  },
  {
   "cell_type": "code",
   "execution_count": 3,
   "metadata": {},
   "outputs": [
    {
     "name": "stdout",
     "output_type": "stream",
     "text": [
      "type: <class 'dict'> data: {'b': True, 'a': 1, 'nested': {'foo': 'bar'}, 'c': None, 'some_list': [1, 2, 3]}\n"
     ]
    }
   ],
   "source": [
    "decoded = json.loads(json_data)\n",
    "print('type: {} data: {}'.format(type(decoded), decoded))"
   ]
  },
  {
   "cell_type": "markdown",
   "metadata": {},
   "source": [
    "## [`unittest.mock`](https://docs.python.org/3/library/unittest.mock.html#module-unittest.mock)\n",
    "Although `pytest` is the preferred testing framework, `unittest.mock` module offers some goodies that are helpful also in pytest test cases. Mocking and patching are generally useful for \"faking\" some parts of the logic/state of the software under test. Common use cases are, for example, patching parts of code that interact with 3rd parties (e.g. some web services)."
   ]
  },
  {
   "cell_type": "markdown",
   "metadata": {},
   "source": [
    "### [`MagicMock`](https://docs.python.org/3/library/unittest.mock.html#unittest.mock.MagicMock)\n",
    "\n",
    "In general, [Mocks](https://en.wikipedia.org/wiki/Mock_object) are simulated objects that replace the functionality/state of a real world object in a controlled way. Thus, they are especially useful in tests for mimicing some behavior of a specific part of the implementation under test.\n",
    "\n",
    "There is also a [`Mock`](https://docs.python.org/3/library/unittest.mock.html#unittest.mock.Mock) class in the Python Standard Library but you usually want to use [`MagicMock`](https://docs.python.org/3/library/unittest.mock.html#unittest.mock.MagicMock) which is a subclass of `Mock`. `MagicMock` provides default implementation for the most of the magic methods (e.g. `__setitem__()` and `__getitem__()`)\n",
    "\n",
    "A potential use case could be something like this:"
   ]
  },
  {
   "cell_type": "code",
   "execution_count": 4,
   "metadata": {},
   "outputs": [
    {
     "name": "stdout",
     "output_type": "stream",
     "text": [
      "All good, woop woop!\n"
     ]
    }
   ],
   "source": [
    "import random\n",
    "\n",
    "class Client:\n",
    "    def __init__(self, url, username, password):\n",
    "        self.url = url\n",
    "        self.creds = (username, password)\n",
    "        \n",
    "    def fetch_some_data(self):\n",
    "        print('Here we could for example fetch data from 3rd party API and return the data.')\n",
    "        print('Now we will just return some random number between 1-100.')\n",
    "        return random.randint(1, 100)\n",
    "\n",
    "\n",
    "class MyApplication:\n",
    "    def __init__(self):\n",
    "        self.client = Client(url='https://somewhere/api', username='John Doe', password='secret123?')\n",
    "        \n",
    "    def do_something_fancy(self):\n",
    "        data = self.client.fetch_some_data()\n",
    "        return data**(1/2) # let's return a square root just for example\n",
    "    \n",
    "    \n",
    "####################\n",
    "# In the test module:\n",
    "\n",
    "from unittest.mock import MagicMock\n",
    "\n",
    "# Inside a test case:\n",
    "app = MyApplication()\n",
    "app.client = MagicMock() # Mock the client\n",
    "app.client.fetch_some_data.return_value = 4  # Set controlled behaviour\n",
    "result = app.do_something_fancy()\n",
    "assert result == 2\n",
    "print('All good, woop woop!')"
   ]
  },
  {
   "cell_type": "markdown",
   "metadata": {},
   "source": [
    "### [`patch`](https://docs.python.org/3/library/unittest.mock.html#unittest.mock.patch)\n",
    "The use cases of [`patch`](https://docs.python.org/3/library/unittest.mock.html#unittest.mock.patch) are pretty similar to `MacigMock`. The biggest difference is that `patch` is used as a context manager or a decorator. Object to be patched is given as an argument for `patch`. In addition, you can provide additional object as a second argument (`new`) which will replace the original one. In case the `new` is omitted, `MagicMock` will be used by default.\n",
    "\n",
    "Let's see how the example above would look like with `patch`."
   ]
  },
  {
   "cell_type": "code",
   "execution_count": 7,
   "metadata": {},
   "outputs": [
    {
     "name": "stdout",
     "output_type": "stream",
     "text": [
      "All good, woop woop!\n"
     ]
    }
   ],
   "source": [
    "# In the test module:\n",
    "\n",
    "from unittest.mock import patch\n",
    "\n",
    "# Inside a test case:\n",
    "app = MyApplication()\n",
    "with patch('__main__.app.client') as patched_client:  # Patch the client \n",
    "    patched_client.fetch_some_data.return_value = 4 # Set controlled behaviour\n",
    "    result = app.do_something_fancy()\n",
    "    assert result == 2\n",
    "    print('All good, woop woop!')"
   ]
  },
  {
   "cell_type": "markdown",
   "metadata": {},
   "source": [
    "The same but with a function decorator instead of a context manager. Note that here we are patching the whole `Client` class, not just the `client` instance variable of `app`."
   ]
  },
  {
   "cell_type": "code",
   "execution_count": 8,
   "metadata": {},
   "outputs": [
    {
     "name": "stdout",
     "output_type": "stream",
     "text": [
      "All good, woop woop!\n"
     ]
    }
   ],
   "source": [
    "from unittest.mock import patch\n",
    "\n",
    "@patch('__main__.Client') # Patch the Client\n",
    "def test_do_something_fancy(client_cls):\n",
    "    client_cls().fetch_some_data.return_value = 4 # Set controlled behaviour\n",
    "    app = MyApplication()\n",
    "    result = app.do_something_fancy()\n",
    "    assert result == 2\n",
    "    print('All good, woop woop!')\n",
    "    \n",
    "    \n",
    "test_do_something_fancy()  # This is just for the sake of example"
   ]
  },
  {
   "cell_type": "code",
   "execution_count": null,
   "metadata": {},
   "outputs": [],
   "source": []
  },
  {
   "cell_type": "markdown",
   "metadata": {},
   "source": [
    "# Acknowledgement\n",
    "\n",
    " Here is the summary of python codes I found in https://github.com/jerry-git/learn-python3\n",
    " \n",
    " For more examples and related exercises refer to the above mentioned link"
   ]
  },
  {
   "cell_type": "code",
   "execution_count": null,
   "metadata": {},
   "outputs": [],
   "source": []
  }
 ],
 "metadata": {
  "kernelspec": {
   "display_name": "Python 3",
   "language": "python",
   "name": "python3"
  },
  "language_info": {
   "codemirror_mode": {
    "name": "ipython",
    "version": 3
   },
   "file_extension": ".py",
   "mimetype": "text/x-python",
   "name": "python",
   "nbconvert_exporter": "python",
   "pygments_lexer": "ipython3",
   "version": "3.8.1"
  },
  "toc": {
   "base_numbering": 1,
   "nav_menu": {},
   "number_sections": true,
   "sideBar": true,
   "skip_h1_title": false,
   "title_cell": "Table of Contents",
   "title_sidebar": "Contents",
   "toc_cell": false,
   "toc_position": {},
   "toc_section_display": true,
   "toc_window_display": false
  },
  "varInspector": {
   "cols": {
    "lenName": 16,
    "lenType": 16,
    "lenVar": 40
   },
   "kernels_config": {
    "python": {
     "delete_cmd_postfix": "",
     "delete_cmd_prefix": "del ",
     "library": "var_list.py",
     "varRefreshCmd": "print(var_dic_list())"
    },
    "r": {
     "delete_cmd_postfix": ") ",
     "delete_cmd_prefix": "rm(",
     "library": "var_list.r",
     "varRefreshCmd": "cat(var_dic_list()) "
    }
   },
   "types_to_exclude": [
    "module",
    "function",
    "builtin_function_or_method",
    "instance",
    "_Feature"
   ],
   "window_display": false
  }
 },
 "nbformat": 4,
 "nbformat_minor": 4
}
